{
 "cells": [
  {
   "cell_type": "code",
   "execution_count": 1,
   "metadata": {},
   "outputs": [],
   "source": [
    "from modin import pandas as pd\n",
    "import numpy as np\n",
    "from collections import Counter\n",
    "from copy import deepcopy\n",
    "from sklearn.tree import DecisionTreeClassifier\n",
    "from sklearn.ensemble import BaggingClassifier\n",
    "from sklearn.model_selection import train_test_split # Import train_test_split function\n",
    "from sklearn import metrics #Import scikit-learn metrics module for accuracy calculation\n",
    "from sklearn import preprocessing"
   ]
  },
  {
   "cell_type": "markdown",
   "metadata": {},
   "source": [
    "### Data Pre-processing and Feature Engineering\n",
    "\n",
    " - Gender has been converted into a Numerical attribute (Female - 0, Male - 1)\n",
    " \n",
    " \n",
    " - Embarked is the station at which the passengers got in, again this is converted into a Numerical attribute (Q-1, C-2, S-3, Others - 0)\n",
    " \n",
    " \n",
    " - Cabin - The first alphabet in cabin indicates the Deck. Turns out Deck has an importance when it comes to survival.\n",
    " - Deck is indicated by the 1st character of cabin. Later these alphabets are label encoded. \n",
    " \n",
    " \n",
    " - SibSp - This is the total number of siblings/spouses on board\n",
    " - Parch - This is the total number of parents and children on board\n",
    " - These two are combined to form family_size\n",
    " \n",
    " \n",
    " - Fare, Age and Pclass have been left as is. "
   ]
  },
  {
   "cell_type": "code",
   "execution_count": 2,
   "metadata": {},
   "outputs": [
    {
     "name": "stdout",
     "output_type": "stream",
     "text": [
      "PassengerId      0\n",
      "Survived         0\n",
      "Pclass           0\n",
      "Name             0\n",
      "Sex              0\n",
      "Age            177\n",
      "SibSp            0\n",
      "Parch            0\n",
      "Ticket           0\n",
      "Fare             0\n",
      "Cabin          687\n",
      "Embarked         2\n",
      "dtype: int64\n",
      "PassengerId      0\n",
      "Pclass           0\n",
      "Name             0\n",
      "Sex              0\n",
      "Age             86\n",
      "SibSp            0\n",
      "Parch            0\n",
      "Ticket           0\n",
      "Fare             1\n",
      "Cabin          327\n",
      "Embarked         0\n",
      "dtype: int64\n"
     ]
    },
    {
     "name": "stderr",
     "output_type": "stream",
     "text": [
      "UserWarning: File path could not be resolved defaulting to pandas implementation.\n",
      "To request implementation, send an email to feature_requests@modin.org.\n",
      "UserWarning: File path could not be resolved defaulting to pandas implementation.\n"
     ]
    }
   ],
   "source": [
    "train = pd.read_csv(\"~/Downloads/train.csv\")\n",
    "test = pd.read_csv(\"~/Downloads/test.csv\")\n",
    "print(train.isna().sum())\n",
    "print(test.isna().sum())\n"
   ]
  },
  {
   "cell_type": "code",
   "execution_count": 3,
   "metadata": {},
   "outputs": [
    {
     "name": "stderr",
     "output_type": "stream",
     "text": [
      "UserWarning: `DataFrame.corr` defaulting to pandas implementation.\n",
      "UserWarning: Distributing <class 'pandas.core.frame.DataFrame'> object. This may take some time.\n"
     ]
    },
    {
     "data": {
      "text/html": [
       "<div>\n",
       "<style scoped>\n",
       "    .dataframe tbody tr th:only-of-type {\n",
       "        vertical-align: middle;\n",
       "    }\n",
       "\n",
       "    .dataframe tbody tr th {\n",
       "        vertical-align: top;\n",
       "    }\n",
       "\n",
       "    .dataframe thead th {\n",
       "        text-align: right;\n",
       "    }\n",
       "</style>\n",
       "<table border=\"1\" class=\"dataframe\">\n",
       "  <thead>\n",
       "    <tr style=\"text-align: right;\">\n",
       "      <th></th>\n",
       "      <th>PassengerId</th>\n",
       "      <th>Survived</th>\n",
       "      <th>Pclass</th>\n",
       "      <th>Age</th>\n",
       "      <th>SibSp</th>\n",
       "      <th>Parch</th>\n",
       "      <th>Fare</th>\n",
       "    </tr>\n",
       "  </thead>\n",
       "  <tbody>\n",
       "    <tr>\n",
       "      <td>PassengerId</td>\n",
       "      <td>1.000000</td>\n",
       "      <td>-0.005007</td>\n",
       "      <td>-0.035144</td>\n",
       "      <td>0.036847</td>\n",
       "      <td>-0.057527</td>\n",
       "      <td>-0.001652</td>\n",
       "      <td>0.012658</td>\n",
       "    </tr>\n",
       "    <tr>\n",
       "      <td>Survived</td>\n",
       "      <td>-0.005007</td>\n",
       "      <td>1.000000</td>\n",
       "      <td>-0.338481</td>\n",
       "      <td>-0.077221</td>\n",
       "      <td>-0.035322</td>\n",
       "      <td>0.081629</td>\n",
       "      <td>0.257307</td>\n",
       "    </tr>\n",
       "    <tr>\n",
       "      <td>Pclass</td>\n",
       "      <td>-0.035144</td>\n",
       "      <td>-0.338481</td>\n",
       "      <td>1.000000</td>\n",
       "      <td>-0.369226</td>\n",
       "      <td>0.083081</td>\n",
       "      <td>0.018443</td>\n",
       "      <td>-0.549500</td>\n",
       "    </tr>\n",
       "    <tr>\n",
       "      <td>Age</td>\n",
       "      <td>0.036847</td>\n",
       "      <td>-0.077221</td>\n",
       "      <td>-0.369226</td>\n",
       "      <td>1.000000</td>\n",
       "      <td>-0.308247</td>\n",
       "      <td>-0.189119</td>\n",
       "      <td>0.096067</td>\n",
       "    </tr>\n",
       "    <tr>\n",
       "      <td>SibSp</td>\n",
       "      <td>-0.057527</td>\n",
       "      <td>-0.035322</td>\n",
       "      <td>0.083081</td>\n",
       "      <td>-0.308247</td>\n",
       "      <td>1.000000</td>\n",
       "      <td>0.414838</td>\n",
       "      <td>0.159651</td>\n",
       "    </tr>\n",
       "    <tr>\n",
       "      <td>Parch</td>\n",
       "      <td>-0.001652</td>\n",
       "      <td>0.081629</td>\n",
       "      <td>0.018443</td>\n",
       "      <td>-0.189119</td>\n",
       "      <td>0.414838</td>\n",
       "      <td>1.000000</td>\n",
       "      <td>0.216225</td>\n",
       "    </tr>\n",
       "    <tr>\n",
       "      <td>Fare</td>\n",
       "      <td>0.012658</td>\n",
       "      <td>0.257307</td>\n",
       "      <td>-0.549500</td>\n",
       "      <td>0.096067</td>\n",
       "      <td>0.159651</td>\n",
       "      <td>0.216225</td>\n",
       "      <td>1.000000</td>\n",
       "    </tr>\n",
       "  </tbody>\n",
       "</table>\n",
       "</div>"
      ],
      "text/plain": [
       "             PassengerId  Survived    Pclass       Age     SibSp     Parch  \\\n",
       "PassengerId     1.000000 -0.005007 -0.035144  0.036847 -0.057527 -0.001652   \n",
       "Survived       -0.005007  1.000000 -0.338481 -0.077221 -0.035322  0.081629   \n",
       "Pclass         -0.035144 -0.338481  1.000000 -0.369226  0.083081  0.018443   \n",
       "Age             0.036847 -0.077221 -0.369226  1.000000 -0.308247 -0.189119   \n",
       "SibSp          -0.057527 -0.035322  0.083081 -0.308247  1.000000  0.414838   \n",
       "Parch          -0.001652  0.081629  0.018443 -0.189119  0.414838  1.000000   \n",
       "Fare            0.012658  0.257307 -0.549500  0.096067  0.159651  0.216225   \n",
       "\n",
       "                 Fare  \n",
       "PassengerId  0.012658  \n",
       "Survived     0.257307  \n",
       "Pclass      -0.549500  \n",
       "Age          0.096067  \n",
       "SibSp        0.159651  \n",
       "Parch        0.216225  \n",
       "Fare         1.000000  "
      ]
     },
     "execution_count": 3,
     "metadata": {},
     "output_type": "execute_result"
    }
   ],
   "source": [
    "train.corr()"
   ]
  },
  {
   "cell_type": "markdown",
   "metadata": {},
   "source": [
    "### Filling the missing values\n",
    " - In both test and train dataset, Age and Cabin are two features that are missing majorly\n",
    " - One way to fill this data is to fill it with the mean() or median()\n",
    " - However for Cabin, it'd help if we create a new cabin called \"Missing\"/\"M\"\n",
    " - But for age, it could also help if we see the co-relation of other variables so that we can fill the data accordingly.\n",
    " - We can see that both Fare, Age is most co-related to Pclass, so instead of filling with mean or median we can fill it with the mean/median of the corresponding pClass."
   ]
  },
  {
   "cell_type": "code",
   "execution_count": 4,
   "metadata": {},
   "outputs": [
    {
     "name": "stdout",
     "output_type": "stream",
     "text": [
      "38.233440860215055 29.87763005780347 25.14061971830986\n"
     ]
    }
   ],
   "source": [
    "class_1_age = train[train[\"Pclass\"] == 1][\"Age\"].mean()\n",
    "class_2_age = train[train[\"Pclass\"] == 2][\"Age\"].mean()\n",
    "class_3_age = train[train[\"Pclass\"] == 3][\"Age\"].mean()\n",
    "print(class_1_age, class_2_age, class_3_age)"
   ]
  },
  {
   "cell_type": "code",
   "execution_count": 5,
   "metadata": {},
   "outputs": [
    {
     "name": "stdout",
     "output_type": "stream",
     "text": [
      "84.1546875 20.662183152173913 13.675550101832993\n"
     ]
    }
   ],
   "source": [
    "class_1_fare = train[train[\"Pclass\"] == 1][\"Fare\"].mean()\n",
    "class_2_fare = train[train[\"Pclass\"] == 2][\"Fare\"].mean()\n",
    "class_3_fare = train[train[\"Pclass\"] == 3][\"Fare\"].mean()\n",
    "print(class_1_fare, class_2_fare, class_3_fare)"
   ]
  },
  {
   "cell_type": "code",
   "execution_count": 6,
   "metadata": {},
   "outputs": [],
   "source": [
    "def fill_age(age, pclass):\n",
    "    if np.isnan(age):\n",
    "        if pclass == 1:\n",
    "            return class_1_age\n",
    "        elif pclass == 2:\n",
    "            return class_2_age\n",
    "        elif pclass == 3:\n",
    "            return class_3_age\n",
    "    else:\n",
    "        return age\n",
    "\n",
    "def fill_fare(fare, pclass):\n",
    "    if np.isnan(fare):\n",
    "        if pclass == 1:\n",
    "            return class_1_fare\n",
    "        elif pclass == 2:\n",
    "            return class_2_fare\n",
    "        elif pclass == 3:\n",
    "            return class_3_fare\n",
    "    else:\n",
    "        return fare\n",
    "    "
   ]
  },
  {
   "cell_type": "code",
   "execution_count": 7,
   "metadata": {},
   "outputs": [],
   "source": [
    "def get_feature(entry):\n",
    "    feature = {\"Sex\": 0, \"Embarked\": 0, \"Cabin\": \"M\"}\n",
    "    \n",
    "    '''\n",
    "    Note: Fields such as City T3, is_female, un-listed sources and products haven't been added in the feature list \n",
    "    as its indicative from other similar fields. i.e., if is_male = 0, its considered as female by the algorithm.\n",
    "    Steps like this has been added to avoid multicollinearity. \n",
    "    '''\n",
    "    \n",
    "    # Set features\n",
    "    if entry[\"Sex\"].lower() == \"male\":\n",
    "        feature[\"Sex\"] = 1\n",
    "    \n",
    "    if entry[\"Embarked\"] == \"Q\":\n",
    "        feature[\"Embarked\"] = 1\n",
    "    elif entry[\"Embarked\"] == \"C\":\n",
    "        feature[\"Embarked\"] = 2\n",
    "    elif entry[\"Embarked\"] == \"S\":\n",
    "        feature[\"Embarked\"] = 3\n",
    "    \n",
    "    feature[\"Age\"] = entry[\"Age\"]\n",
    "    feature[\"Pclass\"] = entry[\"Pclass\"]\n",
    "    feature[\"Family_Size\"] = entry[\"SibSp\"] + entry[\"Parch\"]\n",
    "    feature[\"Fare\"] = entry[\"Fare\"]\n",
    "    if isinstance(entry[\"Cabin\"], str):\n",
    "        feature[\"Cabin\"] = entry[\"Cabin\"][0] \n",
    "        \n",
    "    try:\n",
    "        feature[\"Survived\"] = entry[\"Survived\"]\n",
    "    except KeyError:\n",
    "        pass\n",
    "    return feature"
   ]
  },
  {
   "cell_type": "code",
   "execution_count": 8,
   "metadata": {},
   "outputs": [
    {
     "name": "stderr",
     "output_type": "stream",
     "text": [
      "UserWarning: User-defined function verification is still under development in Modin. The function provided is not verified.\n",
      "UserWarning: `from_dict` defaulting to pandas implementation.\n"
     ]
    },
    {
     "name": "stdout",
     "output_type": "stream",
     "text": [
      "   Sex  Embarked  Cabin   Age  Pclass  Family_Size     Fare  Survived\n",
      "0    1         3      7  22.0       3            1   7.2500         0\n",
      "1    0         2      2  38.0       1            1  71.2833         1\n",
      "2    0         3      7  26.0       3            0   7.9250         1\n",
      "3    0         3      2  35.0       1            1  53.1000         1\n",
      "4    1         3      7  35.0       3            0   8.0500         0\n",
      "     Sex  Embarked  Cabin       Age  Pclass  Family_Size     Fare\n",
      "35     1         3      7  42.00000       1            1  52.0000\n",
      "46     1         1      7  25.14062       3            1  15.5000\n",
      "453    1         2      2  49.00000       1            1  89.1042\n",
      "291    0         2      1  19.00000       1            1  91.0792\n",
      "748    1         3      3  19.00000       1            1  53.1000\n"
     ]
    }
   ],
   "source": [
    "dt_df = deepcopy(train)\n",
    "del dt_df[\"Name\"], dt_df[\"Ticket\"], dt_df[\"PassengerId\"] \n",
    "\n",
    "# Fill all the variables \n",
    "dt_df[\"Age\"] = dt_df.apply(lambda x : fill_age(x[\"Age\"], x[\"Pclass\"]), axis=1)\n",
    "\n",
    "all_features = dt_df.apply(lambda entry: get_feature(entry), axis=1)\n",
    "\n",
    "dt_df = pd.DataFrame.from_dict(list(all_features[0]))\n",
    "le = preprocessing.LabelEncoder()\n",
    "dt_df[\"Cabin\"] = le.fit_transform(dt_df[\"Cabin\"])\n",
    "\n",
    "features_cols = list(dt_df.columns)\n",
    "features_cols.remove(\"Survived\")\n",
    "\n",
    "X = dt_df[features_cols] # Features\n",
    "y = dt_df[\"Survived\"] # Target variable\n",
    "\n",
    "# Split dataset into training set and test set\n",
    "X_train, X_test, y_train, y_test = train_test_split(X, y, test_size=0.25, random_state=1) \n",
    "print(X_train.head())"
   ]
  },
  {
   "cell_type": "code",
   "execution_count": null,
   "metadata": {},
   "outputs": [],
   "source": [
    "# Create Decision Tree classifer object\n",
    "lr = DecisionTreeClassifier()\n",
    "clf = BaggingClassifier(base_estimator=lr, n_estimators=100)\n",
    "clf = clf.fit(X_train,y_train)\n",
    "\n",
    "#Predict the response for test dataset\n",
    "y_pred = clf.predict(X_test)\n",
    "\n",
    "# Model Accuracy, how often is the classifier correct?\n",
    "print(\"Model Trained on\", len(X_train), \"entries.\")\n",
    "print(\"Accuracy:\", metrics.accuracy_score(y_test, y_pred))\n",
    "print(y_pred)"
   ]
  },
  {
   "cell_type": "markdown",
   "metadata": {},
   "source": [
    "### Testing Module"
   ]
  },
  {
   "cell_type": "code",
   "execution_count": null,
   "metadata": {},
   "outputs": [],
   "source": [
    "dt_df = deepcopy(test)\n",
    "del dt_df[\"Name\"], dt_df[\"Ticket\"], dt_df[\"PassengerId\"]  \n",
    "\n",
    "# Fill all the variables \n",
    "dt_df[\"Age\"] = dt_df.apply(lambda x : fill_age(x[\"Age\"],y[\"Pclass\"]), axis=1)\n",
    "dt_df[\"Fare\"] = dt_df.apply(lambda x : fill_age(x[\"Fare\"],y[\"Pclass\"]), axis=1)\n",
    "\n",
    "all_features = dt_df.apply(lambda entry: get_feature(entry), axis=1)\n",
    "dt_df = pd.DataFrame.from_dict(list(all_features[0]))\n",
    "\n",
    "le = preprocessing.LabelEncoder()\n",
    "dt_df[\"Cabin\"] = le.fit_transform(dt_df[\"Cabin\"])\n",
    "\n",
    "survived = clf.predict(dt_df)\n",
    "passenger_id = test[\"PassengerId\"] \n",
    "result_df = pd.DataFrame({\"PassengerId\": passenger_id, \"Survived\": survived})\n",
    "result_df.to_csv(\"titanic_results.csv\", index=False)"
   ]
  },
  {
   "cell_type": "code",
   "execution_count": null,
   "metadata": {},
   "outputs": [],
   "source": []
  }
 ],
 "metadata": {
  "kernelspec": {
   "display_name": "Python 3",
   "language": "python",
   "name": "python3"
  },
  "language_info": {
   "codemirror_mode": {
    "name": "ipython",
    "version": 3
   },
   "file_extension": ".py",
   "mimetype": "text/x-python",
   "name": "python",
   "nbconvert_exporter": "python",
   "pygments_lexer": "ipython3",
   "version": "3.7.5"
  }
 },
 "nbformat": 4,
 "nbformat_minor": 2
}
