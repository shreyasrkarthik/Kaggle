{
 "cells": [
  {
   "cell_type": "code",
   "execution_count": 4,
   "metadata": {},
   "outputs": [],
   "source": [
    "import numpy as np"
   ]
  },
  {
   "cell_type": "code",
   "execution_count": 1,
   "metadata": {},
   "outputs": [],
   "source": [
    "x = [i for i in range(100)]\n",
    "y = [i+2 for i in range(100)]"
   ]
  },
  {
   "cell_type": "code",
   "execution_count": 10,
   "metadata": {},
   "outputs": [],
   "source": [
    "def spearman(x,y):\n",
    "    seq = sorted(x)\n",
    "    rank_x = [seq.index(v) for v in x]\n",
    "    seq = sorted(y)\n",
    "    rank_y = [seq.index(v) for v in y]\n",
    "    \n",
    "    x_mean = np.mean(rank_x)\n",
    "    y_mean = np.mean(rank_y)\n",
    "    \n",
    "    numerator, denominator1, denominator2 = 0, 0, 0\n",
    "    for x, y in zip(rank_x, rank_y):\n",
    "        numerator += ((x-x_mean) * (y-y_mean))\n",
    "        denominator1 += ((x-x_mean)**2)\n",
    "        denominator2 += ((y-y_mean)**2)\n",
    "    \n",
    "    spearman_coeff = numerator/((denominator1**0.5) * (denominator2**0.5))\n",
    "    return spearman_coeff"
   ]
  },
  {
   "cell_type": "code",
   "execution_count": 13,
   "metadata": {},
   "outputs": [],
   "source": [
    "def pearson(x,y):\n",
    "    x_mean = np.mean(x)\n",
    "    y_mean = np.mean(y)\n",
    "    \n",
    "    numerator, denominator1, denominator2 = 0, 0, 0\n",
    "    for xi, yi in zip(x, y):\n",
    "        numerator += ((xi-x_mean) * (yi-y_mean))\n",
    "        denominator1 += ((xi-x_mean)**2)\n",
    "        denominator2 += ((yi-y_mean)**2)\n",
    "    \n",
    "    pearson_coeff = numerator/((denominator1**0.5) * (denominator2**0.5))\n",
    "    return pearson_coeff"
   ]
  },
  {
   "cell_type": "code",
   "execution_count": 12,
   "metadata": {},
   "outputs": [
    {
     "name": "stdout",
     "output_type": "stream",
     "text": [
      "1.0000000000000002\n"
     ]
    }
   ],
   "source": [
    "print(spearman(x,y))"
   ]
  },
  {
   "cell_type": "code",
   "execution_count": 14,
   "metadata": {},
   "outputs": [
    {
     "name": "stdout",
     "output_type": "stream",
     "text": [
      "1.0000000000000002\n"
     ]
    }
   ],
   "source": [
    "print(pearson(x,y))"
   ]
  },
  {
   "cell_type": "code",
   "execution_count": 15,
   "metadata": {},
   "outputs": [
    {
     "name": "stdout",
     "output_type": "stream",
     "text": [
      "1.0\n"
     ]
    }
   ],
   "source": [
    "print(spearman([i for i in range(10000)],[i**2 for i in range(10000)]))"
   ]
  },
  {
   "cell_type": "code",
   "execution_count": null,
   "metadata": {},
   "outputs": [],
   "source": []
  }
 ],
 "metadata": {
  "kernelspec": {
   "display_name": "Python 3",
   "language": "python",
   "name": "python3"
  },
  "language_info": {
   "codemirror_mode": {
    "name": "ipython",
    "version": 3
   },
   "file_extension": ".py",
   "mimetype": "text/x-python",
   "name": "python",
   "nbconvert_exporter": "python",
   "pygments_lexer": "ipython3",
   "version": "3.7.5"
  }
 },
 "nbformat": 4,
 "nbformat_minor": 2
}
