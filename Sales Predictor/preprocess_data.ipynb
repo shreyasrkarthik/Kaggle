{
 "cells": [
  {
   "cell_type": "code",
   "execution_count": 2,
   "metadata": {},
   "outputs": [],
   "source": [
    "import pandas as pd"
   ]
  },
  {
   "cell_type": "code",
   "execution_count": null,
   "metadata": {},
   "outputs": [],
   "source": [
    "# item_cat = pd.read_csv(\"data/item_categories-translated.csv\")\n",
    "# item_cat.columns = [\"item_category_id\", \"item_category_name\"]\n",
    "# item_cat.to_csv(\"data/item_categories-translated.csv\", index=False)"
   ]
  },
  {
   "cell_type": "code",
   "execution_count": null,
   "metadata": {},
   "outputs": [],
   "source": [
    "# shops = pd.read_csv(\"data/shops-translated.csv\")\n",
    "# shops.columns = [\"shop_id\", \"shop_name\"]\n",
    "# shops.to_csv(\"data/shops-translated.csv\", index=False)"
   ]
  },
  {
   "cell_type": "code",
   "execution_count": null,
   "metadata": {},
   "outputs": [],
   "source": [
    "# items = pd.read_csv(\"data/items-translated.csv\")\n",
    "# items_og = pd.read_csv(\"data/items.csv\")\n",
    "\n",
    "# items.columns = [\"item_id\", \"item_name\"]\n",
    "# items[\"item_\"]\n",
    "# items.to_csv(\"data/items-translated.csv\", index=False)"
   ]
  },
  {
   "cell_type": "code",
   "execution_count": 5,
   "metadata": {},
   "outputs": [
    {
     "data": {
      "text/html": [
       "<div>\n",
       "<style scoped>\n",
       "    .dataframe tbody tr th:only-of-type {\n",
       "        vertical-align: middle;\n",
       "    }\n",
       "\n",
       "    .dataframe tbody tr th {\n",
       "        vertical-align: top;\n",
       "    }\n",
       "\n",
       "    .dataframe thead th {\n",
       "        text-align: right;\n",
       "    }\n",
       "</style>\n",
       "<table border=\"1\" class=\"dataframe\">\n",
       "  <thead>\n",
       "    <tr style=\"text-align: right;\">\n",
       "      <th></th>\n",
       "      <th>item_category_id</th>\n",
       "      <th>item_category_name</th>\n",
       "    </tr>\n",
       "  </thead>\n",
       "  <tbody>\n",
       "    <tr>\n",
       "      <th>0</th>\n",
       "      <td>0</td>\n",
       "      <td>PC - Headsets / Headphones</td>\n",
       "    </tr>\n",
       "    <tr>\n",
       "      <th>1</th>\n",
       "      <td>1</td>\n",
       "      <td>Accessories - PS2</td>\n",
       "    </tr>\n",
       "    <tr>\n",
       "      <th>2</th>\n",
       "      <td>2</td>\n",
       "      <td>Accessories - PS3</td>\n",
       "    </tr>\n",
       "    <tr>\n",
       "      <th>3</th>\n",
       "      <td>3</td>\n",
       "      <td>Accessories - PS4</td>\n",
       "    </tr>\n",
       "    <tr>\n",
       "      <th>4</th>\n",
       "      <td>4</td>\n",
       "      <td>Accessories - PSP</td>\n",
       "    </tr>\n",
       "  </tbody>\n",
       "</table>\n",
       "</div>"
      ],
      "text/plain": [
       "   item_category_id          item_category_name\n",
       "0                 0  PC - Headsets / Headphones\n",
       "1                 1           Accessories - PS2\n",
       "2                 2           Accessories - PS3\n",
       "3                 3           Accessories - PS4\n",
       "4                 4           Accessories - PSP"
      ]
     },
     "execution_count": 5,
     "metadata": {},
     "output_type": "execute_result"
    }
   ],
   "source": [
    "items = pd.read_csv(\"data/items-translated.csv\")\n",
    "shops = pd.read_csv(\"data/shops-translated.csv\")\n",
    "item_cat = pd.read_csv(\"data/item_categories-translated.csv\")\n",
    "\n",
    "item_cat.head()"
   ]
  },
  {
   "cell_type": "code",
   "execution_count": 6,
   "metadata": {},
   "outputs": [
    {
     "data": {
      "text/html": [
       "<div>\n",
       "<style scoped>\n",
       "    .dataframe tbody tr th:only-of-type {\n",
       "        vertical-align: middle;\n",
       "    }\n",
       "\n",
       "    .dataframe tbody tr th {\n",
       "        vertical-align: top;\n",
       "    }\n",
       "\n",
       "    .dataframe thead th {\n",
       "        text-align: right;\n",
       "    }\n",
       "</style>\n",
       "<table border=\"1\" class=\"dataframe\">\n",
       "  <thead>\n",
       "    <tr style=\"text-align: right;\">\n",
       "      <th></th>\n",
       "      <th>shop_id</th>\n",
       "      <th>shop_name</th>\n",
       "    </tr>\n",
       "  </thead>\n",
       "  <tbody>\n",
       "    <tr>\n",
       "      <th>0</th>\n",
       "      <td>0</td>\n",
       "      <td>Yakutsk Ordzhonikidze, 56 francs</td>\n",
       "    </tr>\n",
       "    <tr>\n",
       "      <th>1</th>\n",
       "      <td>1</td>\n",
       "      <td>Yakutsk TC \"Central\" franc</td>\n",
       "    </tr>\n",
       "    <tr>\n",
       "      <th>2</th>\n",
       "      <td>2</td>\n",
       "      <td>Adygea Shopping Center \"Mega\"</td>\n",
       "    </tr>\n",
       "    <tr>\n",
       "      <th>3</th>\n",
       "      <td>3</td>\n",
       "      <td>Balashikha TRK \"October-Kinomir\"</td>\n",
       "    </tr>\n",
       "    <tr>\n",
       "      <th>4</th>\n",
       "      <td>4</td>\n",
       "      <td>Volzhsky shopping center \"Volga Mall\"</td>\n",
       "    </tr>\n",
       "  </tbody>\n",
       "</table>\n",
       "</div>"
      ],
      "text/plain": [
       "   shop_id                              shop_name\n",
       "0        0       Yakutsk Ordzhonikidze, 56 francs\n",
       "1        1             Yakutsk TC \"Central\" franc\n",
       "2        2          Adygea Shopping Center \"Mega\"\n",
       "3        3       Balashikha TRK \"October-Kinomir\"\n",
       "4        4  Volzhsky shopping center \"Volga Mall\""
      ]
     },
     "execution_count": 6,
     "metadata": {},
     "output_type": "execute_result"
    }
   ],
   "source": [
    "shops.head()"
   ]
  },
  {
   "cell_type": "code",
   "execution_count": 7,
   "metadata": {},
   "outputs": [],
   "source": [
    "shops[[\"city\", \"shop_name\"]] = shops.shop_name.str.split(\" \", expand=True, n=1)\n"
   ]
  },
  {
   "cell_type": "code",
   "execution_count": 10,
   "metadata": {},
   "outputs": [
    {
     "data": {
      "text/plain": [
       "Moscow          13\n",
       "Yakutsk          4\n",
       "Tyumen           3\n",
       "Voronezh         3\n",
       "Ufa              2\n",
       "RostovNaDonu     2\n",
       "Samara           2\n",
       "SPb              2\n",
       "Krasnoyarsk      2\n",
       "Zhukovsky        2\n",
       "Kazan            2\n",
       "Novosibirsk      2\n",
       "Khimki           1\n",
       "Sergiev          1\n",
       "Digital          1\n",
       "Tomsk            1\n",
       "Kursk            1\n",
       "Chekhov          1\n",
       "Balashikha       1\n",
       "Outbound         1\n",
       "Kaluga           1\n",
       "Online           1\n",
       "Nizhny           1\n",
       "Mytischi         1\n",
       "Adygea           1\n",
       "Colosseum        1\n",
       "Yaroslavl        1\n",
       "Surgut           1\n",
       "Volzhsky         1\n",
       "Omsk             1\n",
       "N.Novgorod       1\n",
       "RostovNaDon      1\n",
       "Vologda          1\n",
       "Name: city, dtype: int64"
      ]
     },
     "execution_count": 10,
     "metadata": {},
     "output_type": "execute_result"
    }
   ],
   "source": [
    "shops.city.value_counts()"
   ]
  },
  {
   "cell_type": "code",
   "execution_count": null,
   "metadata": {},
   "outputs": [],
   "source": [
    "# Rolling mean data\n",
    "\n",
    "# Introduce Lag features & then use ACF, PACF to "
   ]
  }
 ],
 "metadata": {
  "kernelspec": {
   "display_name": "Python 3",
   "language": "python",
   "name": "python3"
  },
  "language_info": {
   "codemirror_mode": {
    "name": "ipython",
    "version": 3
   },
   "file_extension": ".py",
   "mimetype": "text/x-python",
   "name": "python",
   "nbconvert_exporter": "python",
   "pygments_lexer": "ipython3",
   "version": "3.7.3"
  }
 },
 "nbformat": 4,
 "nbformat_minor": 2
}
