{
 "cells": [
  {
   "cell_type": "code",
   "execution_count": 58,
   "metadata": {},
   "outputs": [],
   "source": [
    "from modin import pandas as pd\n",
    "import seaborn\n",
    "from plotly import graph_objects as go\n",
    "import warnings\n",
    "from sklearn import linear_model\n",
    "from sklearn.tree import DecisionTreeClassifier\n",
    "from sklearn.ensemble import BaggingRegressor, BaggingClassifier\n",
    "from sklearn.metrics import accuracy_score\n",
    "from sklearn.model_selection import cross_validate, train_test_split\n",
    "from sklearn.naive_bayes import GaussianNB\n",
    "import numpy as np\n",
    "from scipy import stats\n",
    "from random import randint\n",
    "warnings.filterwarnings(\"ignore\")"
   ]
  },
  {
   "cell_type": "code",
   "execution_count": 2,
   "metadata": {},
   "outputs": [],
   "source": [
    "train = pd.read_csv(\"loans_train.csv\")\n",
    "test = pd.read_csv(\"loans_test.csv\")\n",
    "\n",
    "total = pd.concat([train, test])"
   ]
  },
  {
   "cell_type": "markdown",
   "metadata": {},
   "source": [
    "### Investigating Types of the Attributes"
   ]
  },
  {
   "cell_type": "code",
   "execution_count": 3,
   "metadata": {},
   "outputs": [
    {
     "data": {
      "text/plain": [
       "Annual_Income                   float64\n",
       "Bankruptcies                    float64\n",
       "Credit_Score                    float64\n",
       "Current_Credit_Balance            int64\n",
       "Current_Loan_Amount               int64\n",
       "Customer_ID                      object\n",
       "Home_Ownership                   object\n",
       "Id                                int64\n",
       "Loan ID                          object\n",
       "Loan_Status                      object\n",
       "Maximum_Open_Credit             float64\n",
       "Monthly_Debt                    float64\n",
       "Months_since_last_delinquent    float64\n",
       "Number_of_Credit_Problems         int64\n",
       "Number_of_Open_Accounts           int64\n",
       "Purpose                          object\n",
       "Tax_Liens                       float64\n",
       "Term                             object\n",
       "Years_in_current_job             object\n",
       "Years_of_Credit_History         float64\n",
       "dtype: object"
      ]
     },
     "execution_count": 3,
     "metadata": {},
     "output_type": "execute_result"
    }
   ],
   "source": [
    "total.dtypes"
   ]
  },
  {
   "cell_type": "markdown",
   "metadata": {},
   "source": [
    "### Converting Columns into relevant data types"
   ]
  },
  {
   "cell_type": "code",
   "execution_count": 4,
   "metadata": {},
   "outputs": [
    {
     "data": {
      "text/plain": [
       "10+ years    31121\n",
       "2 years       9134\n",
       "3 years       8169\n",
       "< 1 year      8164\n",
       "5 years       6787\n",
       "1 year        6460\n",
       "4 years       6143\n",
       "6 years       5686\n",
       "7 years       5577\n",
       "8 years       4582\n",
       "9 years       3955\n",
       "dtype: int64"
      ]
     },
     "execution_count": 4,
     "metadata": {},
     "output_type": "execute_result"
    }
   ],
   "source": [
    "total.Years_in_current_job.value_counts()"
   ]
  },
  {
   "cell_type": "code",
   "execution_count": 5,
   "metadata": {},
   "outputs": [],
   "source": [
    "# Converting Years in current job into Ordinal Variable\n",
    "exp_dict = {\"10+ years\": 10, \"<1 year\": 0, \"1 year\": 1, \"2 years\": 2, \"3 years\": 3, \"4 years\": 4, \"5 years\": 5,\n",
    "           \"6 years\": 6, \"7 years\": 7, \"8 years\": 8, \"9 years\": 9}\n",
    "total.Years_in_current_job = total.Years_in_current_job.map(exp_dict)"
   ]
  },
  {
   "cell_type": "code",
   "execution_count": 6,
   "metadata": {},
   "outputs": [
    {
     "data": {
      "text/plain": [
       "Fully Paid     51832\n",
       "Charged Off    15168\n",
       "dtype: int64"
      ]
     },
     "execution_count": 6,
     "metadata": {},
     "output_type": "execute_result"
    }
   ],
   "source": [
    "total.Loan_Status.value_counts()"
   ]
  },
  {
   "cell_type": "code",
   "execution_count": 7,
   "metadata": {},
   "outputs": [],
   "source": [
    "# Converting Loan status into binary variables\n",
    "loan_status_dict = {\"Fully Paid\": 1, \"Charged Off\": 0}\n",
    "total.Loan_Status = total.Loan_Status.map(loan_status_dict)"
   ]
  },
  {
   "cell_type": "code",
   "execution_count": 8,
   "metadata": {},
   "outputs": [
    {
     "data": {
      "text/plain": [
       "Home Mortgage    48410\n",
       "Rent             42194\n",
       "Own Home          9182\n",
       "HaveMortgage       214\n",
       "dtype: int64"
      ]
     },
     "execution_count": 8,
     "metadata": {},
     "output_type": "execute_result"
    }
   ],
   "source": [
    "total.Home_Ownership.value_counts()"
   ]
  },
  {
   "cell_type": "code",
   "execution_count": 9,
   "metadata": {},
   "outputs": [],
   "source": [
    "# Converting Home Ownership into Ordinal Variable\n",
    "home_ownership_dict = {\"Home Mortgage\": 1, \"Rent\": 2, \"Own Home\":4, \"HaveMortgage\":1}\n",
    "total.Home_Ownership = total.Home_Ownership.map(home_ownership_dict)"
   ]
  },
  {
   "cell_type": "code",
   "execution_count": 10,
   "metadata": {},
   "outputs": [
    {
     "data": {
      "text/plain": [
       "Short Term    72208\n",
       "Long Term     27792\n",
       "dtype: int64"
      ]
     },
     "execution_count": 10,
     "metadata": {},
     "output_type": "execute_result"
    }
   ],
   "source": [
    "total.Term.value_counts()"
   ]
  },
  {
   "cell_type": "code",
   "execution_count": 11,
   "metadata": {},
   "outputs": [],
   "source": [
    "# Converting Term into Binary Variable\n",
    "loan_term_dict = {\"Long Term\": 1, \"Short Term\": 0}\n",
    "total.Term = total.Term.map(loan_term_dict)"
   ]
  },
  {
   "cell_type": "code",
   "execution_count": 12,
   "metadata": {},
   "outputs": [],
   "source": [
    "# Drop Loan ID and Customer ID from the columns list\n",
    "total = total.drop(columns=[\"Loan ID\", \"Customer_ID\", \"Id\"])"
   ]
  },
  {
   "cell_type": "code",
   "execution_count": 13,
   "metadata": {},
   "outputs": [
    {
     "data": {
      "text/plain": [
       "Annual_Income                   float64\n",
       "Bankruptcies                    float64\n",
       "Credit_Score                    float64\n",
       "Current_Credit_Balance            int64\n",
       "Current_Loan_Amount               int64\n",
       "Home_Ownership                    int64\n",
       "Loan_Status                     float64\n",
       "Maximum_Open_Credit             float64\n",
       "Monthly_Debt                    float64\n",
       "Months_since_last_delinquent    float64\n",
       "Number_of_Credit_Problems         int64\n",
       "Number_of_Open_Accounts           int64\n",
       "Purpose                          object\n",
       "Tax_Liens                       float64\n",
       "Term                              int64\n",
       "Years_in_current_job            float64\n",
       "Years_of_Credit_History         float64\n",
       "dtype: object"
      ]
     },
     "execution_count": 13,
     "metadata": {},
     "output_type": "execute_result"
    }
   ],
   "source": [
    "total.dtypes"
   ]
  },
  {
   "cell_type": "markdown",
   "metadata": {},
   "source": [
    "### Handling Credit Score > 1000\n",
    "\n",
    " - There are few entries in the train and test data where Credit Score is >1000.\n",
    " - Realistically speaking, this is not something that is possible.\n",
    " - And when you go through the entries which are >1000, it seems like they're mistakenly multiplied by 10\n",
    " - So, dividing by 10 to get the actual credit score.\n"
   ]
  },
  {
   "cell_type": "code",
   "execution_count": 14,
   "metadata": {},
   "outputs": [
    {
     "name": "stdout",
     "output_type": "stream",
     "text": [
      "Min 585.0 Max 751.0 Avg 717.7094263544084\n",
      "Min 5850.0 Max 7510.0 Avg 7108.989233135575\n"
     ]
    }
   ],
   "source": [
    "won_cs = total[total[\"Loan_Status\"]==1][\"Credit_Score\"]\n",
    "print(\"Min\", min(won_cs), \"Max\", max(won_cs), \"Avg\", won_cs.mean())\n",
    "\n",
    "lost_cs = total[total[\"Credit_Score\"] > 1000][\"Credit_Score\"]\n",
    "print(\"Min\", min(lost_cs), \"Max\", max(lost_cs), \"Avg\", lost_cs.mean())"
   ]
  },
  {
   "cell_type": "code",
   "execution_count": 15,
   "metadata": {},
   "outputs": [],
   "source": [
    "# Converting credit scores to realistic values\n",
    "total.Credit_Score = total.Credit_Score.map(lambda x: x/10 if x>1000 else x)"
   ]
  },
  {
   "cell_type": "markdown",
   "metadata": {},
   "source": [
    "### Missing Attributes"
   ]
  },
  {
   "cell_type": "code",
   "execution_count": 16,
   "metadata": {},
   "outputs": [
    {
     "data": {
      "text/plain": [
       "Annual_Income                   19154\n",
       "Bankruptcies                      204\n",
       "Credit_Score                    19154\n",
       "Current_Credit_Balance              0\n",
       "Current_Loan_Amount                 0\n",
       "Home_Ownership                      0\n",
       "Loan_Status                     33000\n",
       "Maximum_Open_Credit                 2\n",
       "Monthly_Debt                        0\n",
       "Months_since_last_delinquent    53141\n",
       "Number_of_Credit_Problems           0\n",
       "Number_of_Open_Accounts             0\n",
       "Purpose                             0\n",
       "Tax_Liens                          10\n",
       "Term                                0\n",
       "Years_in_current_job            12386\n",
       "Years_of_Credit_History             0\n",
       "dtype: int64"
      ]
     },
     "execution_count": 16,
     "metadata": {},
     "output_type": "execute_result"
    }
   ],
   "source": [
    "total.isnull().sum()"
   ]
  },
  {
   "cell_type": "markdown",
   "metadata": {},
   "source": [
    "### Missing Attributes in Training Data\n",
    "\n",
    " - Months_since_last_delinquent\n",
    " - Credit Score\n",
    " - Annual Income\n",
    " - Years in current job\n",
    " - Bankruptcies\n",
    " - Tax_Liens\n",
    " - Each of these attributes need to be analysed to fill them accordingly."
   ]
  },
  {
   "cell_type": "markdown",
   "metadata": {},
   "source": [
    "### Co-relation Matrix"
   ]
  },
  {
   "cell_type": "code",
   "execution_count": 17,
   "metadata": {},
   "outputs": [
    {
     "data": {
      "text/html": [
       "<div>\n",
       "<style scoped>\n",
       "    .dataframe tbody tr th:only-of-type {\n",
       "        vertical-align: middle;\n",
       "    }\n",
       "\n",
       "    .dataframe tbody tr th {\n",
       "        vertical-align: top;\n",
       "    }\n",
       "\n",
       "    .dataframe thead th {\n",
       "        text-align: right;\n",
       "    }\n",
       "</style>\n",
       "<table border=\"1\" class=\"dataframe\">\n",
       "  <thead>\n",
       "    <tr style=\"text-align: right;\">\n",
       "      <th></th>\n",
       "      <th>Annual_Income</th>\n",
       "      <th>Bankruptcies</th>\n",
       "      <th>Credit_Score</th>\n",
       "      <th>Current_Credit_Balance</th>\n",
       "      <th>Current_Loan_Amount</th>\n",
       "      <th>Home_Ownership</th>\n",
       "      <th>Loan_Status</th>\n",
       "      <th>Maximum_Open_Credit</th>\n",
       "      <th>Monthly_Debt</th>\n",
       "      <th>Months_since_last_delinquent</th>\n",
       "      <th>Number_of_Credit_Problems</th>\n",
       "      <th>Number_of_Open_Accounts</th>\n",
       "      <th>Tax_Liens</th>\n",
       "      <th>Term</th>\n",
       "      <th>Years_in_current_job</th>\n",
       "      <th>Years_of_Credit_History</th>\n",
       "    </tr>\n",
       "  </thead>\n",
       "  <tbody>\n",
       "    <tr>\n",
       "      <td>Annual_Income</td>\n",
       "      <td>1.000000</td>\n",
       "      <td>-0.047672</td>\n",
       "      <td>-0.005092</td>\n",
       "      <td>0.312340</td>\n",
       "      <td>0.013112</td>\n",
       "      <td>-0.127701</td>\n",
       "      <td>0.051260</td>\n",
       "      <td>0.053064</td>\n",
       "      <td>0.485230</td>\n",
       "      <td>-0.077577</td>\n",
       "      <td>-0.017006</td>\n",
       "      <td>0.146175</td>\n",
       "      <td>0.040167</td>\n",
       "      <td>0.086169</td>\n",
       "      <td>0.072149</td>\n",
       "      <td>0.161669</td>\n",
       "    </tr>\n",
       "    <tr>\n",
       "      <td>Bankruptcies</td>\n",
       "      <td>-0.047672</td>\n",
       "      <td>1.000000</td>\n",
       "      <td>-0.034479</td>\n",
       "      <td>-0.122603</td>\n",
       "      <td>-0.000608</td>\n",
       "      <td>0.005797</td>\n",
       "      <td>0.007509</td>\n",
       "      <td>-0.014574</td>\n",
       "      <td>-0.078979</td>\n",
       "      <td>0.123951</td>\n",
       "      <td>0.752942</td>\n",
       "      <td>-0.024575</td>\n",
       "      <td>0.046110</td>\n",
       "      <td>-0.028958</td>\n",
       "      <td>0.034525</td>\n",
       "      <td>0.066247</td>\n",
       "    </tr>\n",
       "    <tr>\n",
       "      <td>Credit_Score</td>\n",
       "      <td>-0.005092</td>\n",
       "      <td>-0.034479</td>\n",
       "      <td>1.000000</td>\n",
       "      <td>-0.015964</td>\n",
       "      <td>0.134951</td>\n",
       "      <td>-0.031171</td>\n",
       "      <td>0.102718</td>\n",
       "      <td>0.017392</td>\n",
       "      <td>-0.091347</td>\n",
       "      <td>0.041937</td>\n",
       "      <td>-0.047260</td>\n",
       "      <td>-0.030063</td>\n",
       "      <td>-0.020593</td>\n",
       "      <td>-0.465211</td>\n",
       "      <td>-0.017593</td>\n",
       "      <td>0.077718</td>\n",
       "    </tr>\n",
       "    <tr>\n",
       "      <td>Current_Credit_Balance</td>\n",
       "      <td>0.312340</td>\n",
       "      <td>-0.122603</td>\n",
       "      <td>-0.015964</td>\n",
       "      <td>1.000000</td>\n",
       "      <td>0.003880</td>\n",
       "      <td>-0.089456</td>\n",
       "      <td>0.014896</td>\n",
       "      <td>0.139204</td>\n",
       "      <td>0.481348</td>\n",
       "      <td>-0.028662</td>\n",
       "      <td>-0.112516</td>\n",
       "      <td>0.228136</td>\n",
       "      <td>-0.015645</td>\n",
       "      <td>0.104719</td>\n",
       "      <td>0.096627</td>\n",
       "      <td>0.208470</td>\n",
       "    </tr>\n",
       "    <tr>\n",
       "      <td>Current_Loan_Amount</td>\n",
       "      <td>0.013112</td>\n",
       "      <td>-0.000608</td>\n",
       "      <td>0.134951</td>\n",
       "      <td>0.003880</td>\n",
       "      <td>1.000000</td>\n",
       "      <td>-0.008056</td>\n",
       "      <td>0.193534</td>\n",
       "      <td>-0.001271</td>\n",
       "      <td>-0.006643</td>\n",
       "      <td>0.011248</td>\n",
       "      <td>-0.002795</td>\n",
       "      <td>0.001478</td>\n",
       "      <td>-0.002048</td>\n",
       "      <td>-0.059006</td>\n",
       "      <td>-0.002708</td>\n",
       "      <td>0.019282</td>\n",
       "    </tr>\n",
       "    <tr>\n",
       "      <td>Home_Ownership</td>\n",
       "      <td>-0.127701</td>\n",
       "      <td>0.005797</td>\n",
       "      <td>-0.031171</td>\n",
       "      <td>-0.089456</td>\n",
       "      <td>-0.008056</td>\n",
       "      <td>1.000000</td>\n",
       "      <td>-0.029073</td>\n",
       "      <td>-0.008668</td>\n",
       "      <td>-0.142837</td>\n",
       "      <td>0.027507</td>\n",
       "      <td>0.006196</td>\n",
       "      <td>-0.082963</td>\n",
       "      <td>0.002047</td>\n",
       "      <td>-0.072452</td>\n",
       "      <td>-0.098080</td>\n",
       "      <td>-0.083317</td>\n",
       "    </tr>\n",
       "    <tr>\n",
       "      <td>Loan_Status</td>\n",
       "      <td>0.051260</td>\n",
       "      <td>0.007509</td>\n",
       "      <td>0.102718</td>\n",
       "      <td>0.014896</td>\n",
       "      <td>0.193534</td>\n",
       "      <td>-0.029073</td>\n",
       "      <td>1.000000</td>\n",
       "      <td>0.010186</td>\n",
       "      <td>-0.001227</td>\n",
       "      <td>0.015228</td>\n",
       "      <td>-0.000525</td>\n",
       "      <td>-0.009959</td>\n",
       "      <td>-0.007133</td>\n",
       "      <td>-0.106256</td>\n",
       "      <td>0.004208</td>\n",
       "      <td>0.027135</td>\n",
       "    </tr>\n",
       "    <tr>\n",
       "      <td>Maximum_Open_Credit</td>\n",
       "      <td>0.053064</td>\n",
       "      <td>-0.014574</td>\n",
       "      <td>0.017392</td>\n",
       "      <td>0.139204</td>\n",
       "      <td>-0.001271</td>\n",
       "      <td>-0.008668</td>\n",
       "      <td>0.010186</td>\n",
       "      <td>1.000000</td>\n",
       "      <td>0.039268</td>\n",
       "      <td>-0.008785</td>\n",
       "      <td>-0.012072</td>\n",
       "      <td>0.031341</td>\n",
       "      <td>-0.001029</td>\n",
       "      <td>0.008348</td>\n",
       "      <td>0.004409</td>\n",
       "      <td>0.031124</td>\n",
       "    </tr>\n",
       "    <tr>\n",
       "      <td>Monthly_Debt</td>\n",
       "      <td>0.485230</td>\n",
       "      <td>-0.078979</td>\n",
       "      <td>-0.091347</td>\n",
       "      <td>0.481348</td>\n",
       "      <td>-0.006643</td>\n",
       "      <td>-0.142837</td>\n",
       "      <td>-0.001227</td>\n",
       "      <td>0.039268</td>\n",
       "      <td>1.000000</td>\n",
       "      <td>-0.056818</td>\n",
       "      <td>-0.055383</td>\n",
       "      <td>0.411353</td>\n",
       "      <td>0.020119</td>\n",
       "      <td>0.158641</td>\n",
       "      <td>0.120666</td>\n",
       "      <td>0.199289</td>\n",
       "    </tr>\n",
       "    <tr>\n",
       "      <td>Months_since_last_delinquent</td>\n",
       "      <td>-0.077577</td>\n",
       "      <td>0.123951</td>\n",
       "      <td>0.041937</td>\n",
       "      <td>-0.028662</td>\n",
       "      <td>0.011248</td>\n",
       "      <td>0.027507</td>\n",
       "      <td>0.015228</td>\n",
       "      <td>-0.008785</td>\n",
       "      <td>-0.056818</td>\n",
       "      <td>1.000000</td>\n",
       "      <td>0.104642</td>\n",
       "      <td>-0.032569</td>\n",
       "      <td>0.012624</td>\n",
       "      <td>-0.014905</td>\n",
       "      <td>-0.009268</td>\n",
       "      <td>-0.044292</td>\n",
       "    </tr>\n",
       "    <tr>\n",
       "      <td>Number_of_Credit_Problems</td>\n",
       "      <td>-0.017006</td>\n",
       "      <td>0.752942</td>\n",
       "      <td>-0.047260</td>\n",
       "      <td>-0.112516</td>\n",
       "      <td>-0.002795</td>\n",
       "      <td>0.006196</td>\n",
       "      <td>-0.000525</td>\n",
       "      <td>-0.012072</td>\n",
       "      <td>-0.055383</td>\n",
       "      <td>0.104642</td>\n",
       "      <td>1.000000</td>\n",
       "      <td>-0.013995</td>\n",
       "      <td>0.581290</td>\n",
       "      <td>-0.026160</td>\n",
       "      <td>0.035567</td>\n",
       "      <td>0.061588</td>\n",
       "    </tr>\n",
       "    <tr>\n",
       "      <td>Number_of_Open_Accounts</td>\n",
       "      <td>0.146175</td>\n",
       "      <td>-0.024575</td>\n",
       "      <td>-0.030063</td>\n",
       "      <td>0.228136</td>\n",
       "      <td>0.001478</td>\n",
       "      <td>-0.082963</td>\n",
       "      <td>-0.009959</td>\n",
       "      <td>0.031341</td>\n",
       "      <td>0.411353</td>\n",
       "      <td>-0.032569</td>\n",
       "      <td>-0.013995</td>\n",
       "      <td>1.000000</td>\n",
       "      <td>0.006545</td>\n",
       "      <td>0.082605</td>\n",
       "      <td>0.047419</td>\n",
       "      <td>0.132349</td>\n",
       "    </tr>\n",
       "    <tr>\n",
       "      <td>Tax_Liens</td>\n",
       "      <td>0.040167</td>\n",
       "      <td>0.046110</td>\n",
       "      <td>-0.020593</td>\n",
       "      <td>-0.015645</td>\n",
       "      <td>-0.002048</td>\n",
       "      <td>0.002047</td>\n",
       "      <td>-0.007133</td>\n",
       "      <td>-0.001029</td>\n",
       "      <td>0.020119</td>\n",
       "      <td>0.012624</td>\n",
       "      <td>0.581290</td>\n",
       "      <td>0.006545</td>\n",
       "      <td>1.000000</td>\n",
       "      <td>-0.003430</td>\n",
       "      <td>0.015030</td>\n",
       "      <td>0.017245</td>\n",
       "    </tr>\n",
       "    <tr>\n",
       "      <td>Term</td>\n",
       "      <td>0.086169</td>\n",
       "      <td>-0.028958</td>\n",
       "      <td>-0.465211</td>\n",
       "      <td>0.104719</td>\n",
       "      <td>-0.059006</td>\n",
       "      <td>-0.072452</td>\n",
       "      <td>-0.106256</td>\n",
       "      <td>0.008348</td>\n",
       "      <td>0.158641</td>\n",
       "      <td>-0.014905</td>\n",
       "      <td>-0.026160</td>\n",
       "      <td>0.082605</td>\n",
       "      <td>-0.003430</td>\n",
       "      <td>1.000000</td>\n",
       "      <td>0.067854</td>\n",
       "      <td>0.041505</td>\n",
       "    </tr>\n",
       "    <tr>\n",
       "      <td>Years_in_current_job</td>\n",
       "      <td>0.072149</td>\n",
       "      <td>0.034525</td>\n",
       "      <td>-0.017593</td>\n",
       "      <td>0.096627</td>\n",
       "      <td>-0.002708</td>\n",
       "      <td>-0.098080</td>\n",
       "      <td>0.004208</td>\n",
       "      <td>0.004409</td>\n",
       "      <td>0.120666</td>\n",
       "      <td>-0.009268</td>\n",
       "      <td>0.035567</td>\n",
       "      <td>0.047419</td>\n",
       "      <td>0.015030</td>\n",
       "      <td>0.067854</td>\n",
       "      <td>1.000000</td>\n",
       "      <td>0.231829</td>\n",
       "    </tr>\n",
       "    <tr>\n",
       "      <td>Years_of_Credit_History</td>\n",
       "      <td>0.161669</td>\n",
       "      <td>0.066247</td>\n",
       "      <td>0.077718</td>\n",
       "      <td>0.208470</td>\n",
       "      <td>0.019282</td>\n",
       "      <td>-0.083317</td>\n",
       "      <td>0.027135</td>\n",
       "      <td>0.031124</td>\n",
       "      <td>0.199289</td>\n",
       "      <td>-0.044292</td>\n",
       "      <td>0.061588</td>\n",
       "      <td>0.132349</td>\n",
       "      <td>0.017245</td>\n",
       "      <td>0.041505</td>\n",
       "      <td>0.231829</td>\n",
       "      <td>1.000000</td>\n",
       "    </tr>\n",
       "  </tbody>\n",
       "</table>\n",
       "</div>"
      ],
      "text/plain": [
       "                              Annual_Income  Bankruptcies  Credit_Score  \\\n",
       "Annual_Income                      1.000000     -0.047672     -0.005092   \n",
       "Bankruptcies                      -0.047672      1.000000     -0.034479   \n",
       "Credit_Score                      -0.005092     -0.034479      1.000000   \n",
       "Current_Credit_Balance             0.312340     -0.122603     -0.015964   \n",
       "Current_Loan_Amount                0.013112     -0.000608      0.134951   \n",
       "Home_Ownership                    -0.127701      0.005797     -0.031171   \n",
       "Loan_Status                        0.051260      0.007509      0.102718   \n",
       "Maximum_Open_Credit                0.053064     -0.014574      0.017392   \n",
       "Monthly_Debt                       0.485230     -0.078979     -0.091347   \n",
       "Months_since_last_delinquent      -0.077577      0.123951      0.041937   \n",
       "Number_of_Credit_Problems         -0.017006      0.752942     -0.047260   \n",
       "Number_of_Open_Accounts            0.146175     -0.024575     -0.030063   \n",
       "Tax_Liens                          0.040167      0.046110     -0.020593   \n",
       "Term                               0.086169     -0.028958     -0.465211   \n",
       "Years_in_current_job               0.072149      0.034525     -0.017593   \n",
       "Years_of_Credit_History            0.161669      0.066247      0.077718   \n",
       "\n",
       "                              Current_Credit_Balance  Current_Loan_Amount  \\\n",
       "Annual_Income                               0.312340             0.013112   \n",
       "Bankruptcies                               -0.122603            -0.000608   \n",
       "Credit_Score                               -0.015964             0.134951   \n",
       "Current_Credit_Balance                      1.000000             0.003880   \n",
       "Current_Loan_Amount                         0.003880             1.000000   \n",
       "Home_Ownership                             -0.089456            -0.008056   \n",
       "Loan_Status                                 0.014896             0.193534   \n",
       "Maximum_Open_Credit                         0.139204            -0.001271   \n",
       "Monthly_Debt                                0.481348            -0.006643   \n",
       "Months_since_last_delinquent               -0.028662             0.011248   \n",
       "Number_of_Credit_Problems                  -0.112516            -0.002795   \n",
       "Number_of_Open_Accounts                     0.228136             0.001478   \n",
       "Tax_Liens                                  -0.015645            -0.002048   \n",
       "Term                                        0.104719            -0.059006   \n",
       "Years_in_current_job                        0.096627            -0.002708   \n",
       "Years_of_Credit_History                     0.208470             0.019282   \n",
       "\n",
       "                              Home_Ownership  Loan_Status  \\\n",
       "Annual_Income                      -0.127701     0.051260   \n",
       "Bankruptcies                        0.005797     0.007509   \n",
       "Credit_Score                       -0.031171     0.102718   \n",
       "Current_Credit_Balance             -0.089456     0.014896   \n",
       "Current_Loan_Amount                -0.008056     0.193534   \n",
       "Home_Ownership                      1.000000    -0.029073   \n",
       "Loan_Status                        -0.029073     1.000000   \n",
       "Maximum_Open_Credit                -0.008668     0.010186   \n",
       "Monthly_Debt                       -0.142837    -0.001227   \n",
       "Months_since_last_delinquent        0.027507     0.015228   \n",
       "Number_of_Credit_Problems           0.006196    -0.000525   \n",
       "Number_of_Open_Accounts            -0.082963    -0.009959   \n",
       "Tax_Liens                           0.002047    -0.007133   \n",
       "Term                               -0.072452    -0.106256   \n",
       "Years_in_current_job               -0.098080     0.004208   \n",
       "Years_of_Credit_History            -0.083317     0.027135   \n",
       "\n",
       "                              Maximum_Open_Credit  Monthly_Debt  \\\n",
       "Annual_Income                            0.053064      0.485230   \n",
       "Bankruptcies                            -0.014574     -0.078979   \n",
       "Credit_Score                             0.017392     -0.091347   \n",
       "Current_Credit_Balance                   0.139204      0.481348   \n",
       "Current_Loan_Amount                     -0.001271     -0.006643   \n",
       "Home_Ownership                          -0.008668     -0.142837   \n",
       "Loan_Status                              0.010186     -0.001227   \n",
       "Maximum_Open_Credit                      1.000000      0.039268   \n",
       "Monthly_Debt                             0.039268      1.000000   \n",
       "Months_since_last_delinquent            -0.008785     -0.056818   \n",
       "Number_of_Credit_Problems               -0.012072     -0.055383   \n",
       "Number_of_Open_Accounts                  0.031341      0.411353   \n",
       "Tax_Liens                               -0.001029      0.020119   \n",
       "Term                                     0.008348      0.158641   \n",
       "Years_in_current_job                     0.004409      0.120666   \n",
       "Years_of_Credit_History                  0.031124      0.199289   \n",
       "\n",
       "                              Months_since_last_delinquent  \\\n",
       "Annual_Income                                    -0.077577   \n",
       "Bankruptcies                                      0.123951   \n",
       "Credit_Score                                      0.041937   \n",
       "Current_Credit_Balance                           -0.028662   \n",
       "Current_Loan_Amount                               0.011248   \n",
       "Home_Ownership                                    0.027507   \n",
       "Loan_Status                                       0.015228   \n",
       "Maximum_Open_Credit                              -0.008785   \n",
       "Monthly_Debt                                     -0.056818   \n",
       "Months_since_last_delinquent                      1.000000   \n",
       "Number_of_Credit_Problems                         0.104642   \n",
       "Number_of_Open_Accounts                          -0.032569   \n",
       "Tax_Liens                                         0.012624   \n",
       "Term                                             -0.014905   \n",
       "Years_in_current_job                             -0.009268   \n",
       "Years_of_Credit_History                          -0.044292   \n",
       "\n",
       "                              Number_of_Credit_Problems  \\\n",
       "Annual_Income                                 -0.017006   \n",
       "Bankruptcies                                   0.752942   \n",
       "Credit_Score                                  -0.047260   \n",
       "Current_Credit_Balance                        -0.112516   \n",
       "Current_Loan_Amount                           -0.002795   \n",
       "Home_Ownership                                 0.006196   \n",
       "Loan_Status                                   -0.000525   \n",
       "Maximum_Open_Credit                           -0.012072   \n",
       "Monthly_Debt                                  -0.055383   \n",
       "Months_since_last_delinquent                   0.104642   \n",
       "Number_of_Credit_Problems                      1.000000   \n",
       "Number_of_Open_Accounts                       -0.013995   \n",
       "Tax_Liens                                      0.581290   \n",
       "Term                                          -0.026160   \n",
       "Years_in_current_job                           0.035567   \n",
       "Years_of_Credit_History                        0.061588   \n",
       "\n",
       "                              Number_of_Open_Accounts  Tax_Liens      Term  \\\n",
       "Annual_Income                                0.146175   0.040167  0.086169   \n",
       "Bankruptcies                                -0.024575   0.046110 -0.028958   \n",
       "Credit_Score                                -0.030063  -0.020593 -0.465211   \n",
       "Current_Credit_Balance                       0.228136  -0.015645  0.104719   \n",
       "Current_Loan_Amount                          0.001478  -0.002048 -0.059006   \n",
       "Home_Ownership                              -0.082963   0.002047 -0.072452   \n",
       "Loan_Status                                 -0.009959  -0.007133 -0.106256   \n",
       "Maximum_Open_Credit                          0.031341  -0.001029  0.008348   \n",
       "Monthly_Debt                                 0.411353   0.020119  0.158641   \n",
       "Months_since_last_delinquent                -0.032569   0.012624 -0.014905   \n",
       "Number_of_Credit_Problems                   -0.013995   0.581290 -0.026160   \n",
       "Number_of_Open_Accounts                      1.000000   0.006545  0.082605   \n",
       "Tax_Liens                                    0.006545   1.000000 -0.003430   \n",
       "Term                                         0.082605  -0.003430  1.000000   \n",
       "Years_in_current_job                         0.047419   0.015030  0.067854   \n",
       "Years_of_Credit_History                      0.132349   0.017245  0.041505   \n",
       "\n",
       "                              Years_in_current_job  Years_of_Credit_History  \n",
       "Annual_Income                             0.072149                 0.161669  \n",
       "Bankruptcies                              0.034525                 0.066247  \n",
       "Credit_Score                             -0.017593                 0.077718  \n",
       "Current_Credit_Balance                    0.096627                 0.208470  \n",
       "Current_Loan_Amount                      -0.002708                 0.019282  \n",
       "Home_Ownership                           -0.098080                -0.083317  \n",
       "Loan_Status                               0.004208                 0.027135  \n",
       "Maximum_Open_Credit                       0.004409                 0.031124  \n",
       "Monthly_Debt                              0.120666                 0.199289  \n",
       "Months_since_last_delinquent             -0.009268                -0.044292  \n",
       "Number_of_Credit_Problems                 0.035567                 0.061588  \n",
       "Number_of_Open_Accounts                   0.047419                 0.132349  \n",
       "Tax_Liens                                 0.015030                 0.017245  \n",
       "Term                                      0.067854                 0.041505  \n",
       "Years_in_current_job                      1.000000                 0.231829  \n",
       "Years_of_Credit_History                   0.231829                 1.000000  "
      ]
     },
     "execution_count": 17,
     "metadata": {},
     "output_type": "execute_result"
    }
   ],
   "source": [
    "import seaborn as sns\n",
    "%matplotlib inline\n",
    "\n",
    "corr_matrix = total.corr()\n",
    "corr_matrix"
   ]
  },
  {
   "cell_type": "code",
   "execution_count": 18,
   "metadata": {},
   "outputs": [
    {
     "data": {
      "text/plain": [
       "<matplotlib.axes._subplots.AxesSubplot at 0x116d10610>"
      ]
     },
     "execution_count": 18,
     "metadata": {},
     "output_type": "execute_result"
    },
    {
     "data": {
      "image/png": "[encoded data removed]",
      "text/plain": [
       "<Figure size 432x288 with 2 Axes>"
      ]
     },
     "metadata": {
      "needs_background": "light"
     },
     "output_type": "display_data"
    }
   ],
   "source": [
    "sns.heatmap(corr_matrix, xticklabels=corr_matrix.columns, yticklabels=corr_matrix.columns,\n",
    "           cmap=sns.diverging_palette(20, 220, n=200))"
   ]
  },
  {
   "cell_type": "markdown",
   "metadata": {},
   "source": [
    "#### Co-relation between attributes\n",
    "\n",
    "- Annual Income is related to Monthly_Debt and Current Credit Balance.\n",
    "- Bankruptcies is related to Number_of_Credit_Problems.\n",
    "- Tax Liens is again related to Number_of_Credit_Problems.\n",
    "- Credit_Score is related to Loan Amount & Term.\n",
    "- Months_since_last_delinquency - Is weakly corelated to Bankruptcies & Number of Credit problems.\n",
    "- Years in current job - Is Monthly debt & Years of credit history.\n",
    "- Maximum Open Credit is weakly related to Current_Credit_Balance."
   ]
  },
  {
   "cell_type": "markdown",
   "metadata": {},
   "source": [
    "### Annual Income relation w.r.t Monthly "
   ]
  },
  {
   "cell_type": "code",
   "execution_count": 19,
   "metadata": {},
   "outputs": [],
   "source": [
    "non_na = total.dropna(subset=[\"Annual_Income\", \"Current_Credit_Balance\", \"Monthly_Debt\"])\n",
    "\n",
    "x = non_na[[\"Monthly_Debt\", \"Current_Credit_Balance\"]].to_numpy().reshape(-1,2)\n",
    "y = non_na['Annual_Income']\n",
    "\n",
    "x_train, x_test, y_train, y_test = train_test_split(x, y, test_size=0.25)"
   ]
  },
  {
   "cell_type": "raw",
   "metadata": {},
   "source": [
    "# # Plot between Annual Income and Monthly Debt\n",
    "\n",
    "lr = linear_model.LinearRegression()\n",
    "# scores = cross_validate(lr, x_train, y_train, cv=5)\n",
    "# print(\"Cross Validation R2 score is\", np.mean(scores['test_score']))\n",
    "# print(\"------------------------------------\")\n",
    "\n",
    "model = BaggingRegressor(lr, n_estimators=100)\n",
    "model.fit(x_train, y_train)\n",
    "y_pred = model.predict(x_test)\n",
    "\n",
    "\n",
    "# # Accuracy computation\n",
    "# correctly_predicted = 0\n",
    "# for i,j in zip(y_test, y_pred):\n",
    "#     if 0.8*i < j < 1.2 * i:\n",
    "#         correctly_predicted += 1\n",
    "# print(\"Correctly Predicted\", correctly_predicted)\n",
    "# print(\"Accuracy of Annual Income with Monthly Debt & Current Credit Balance is \", correctly_predicted*100/len(y_pred))"
   ]
  },
  {
   "cell_type": "markdown",
   "metadata": {},
   "source": [
    "#### From this it is clear that using a regression model is not the solution to fill those missing Annual Income\n",
    "\n",
    "### Plot Annual Income vs Current Credit Balance and Monthly Debt"
   ]
  },
  {
   "cell_type": "code",
   "execution_count": 20,
   "metadata": {},
   "outputs": [
    {
     "data": {
      "text/plain": [
       "<matplotlib.axes._subplots.AxesSubplot at 0x116ca7c10>"
      ]
     },
     "execution_count": 20,
     "metadata": {},
     "output_type": "execute_result"
    },
    {
     "data": {
      "image/png": "[encoded data removed]",
      "text/plain": [
       "<Figure size 432x288 with 1 Axes>"
      ]
     },
     "metadata": {
      "needs_background": "light"
     },
     "output_type": "display_data"
    }
   ],
   "source": [
    "non_na.plot.scatter(x=\"Monthly_Debt\", y=\"Annual_Income\")"
   ]
  },
  {
   "cell_type": "code",
   "execution_count": 21,
   "metadata": {},
   "outputs": [
    {
     "data": {
      "text/plain": [
       "<matplotlib.axes._subplots.AxesSubplot at 0x117f00f10>"
      ]
     },
     "execution_count": 21,
     "metadata": {},
     "output_type": "execute_result"
    },
    {
     "data": {
      "image/png": "[encoded data removed]",
      "text/plain": [
       "<Figure size 432x288 with 1 Axes>"
      ]
     },
     "metadata": {
      "needs_background": "light"
     },
     "output_type": "display_data"
    }
   ],
   "source": [
    "non_na.plot.scatter(x=\"Current_Credit_Balance\", y=\"Annual_Income\")"
   ]
  },
  {
   "cell_type": "code",
   "execution_count": 22,
   "metadata": {},
   "outputs": [
    {
     "name": "stdout",
     "output_type": "stream",
     "text": [
      "Total Outliers removed 2211\n"
     ]
    },
    {
     "data": {
      "text/plain": [
       "<matplotlib.axes._subplots.AxesSubplot at 0x117f2eed0>"
      ]
     },
     "execution_count": 22,
     "metadata": {},
     "output_type": "execute_result"
    },
    {
     "data": {
      "image/png": "[encoded data removed]",
      "text/plain": [
       "<Figure size 432x288 with 1 Axes>"
      ]
     },
     "metadata": {
      "needs_background": "light"
     },
     "output_type": "display_data"
    }
   ],
   "source": [
    "# Remove Outliers from the data to compute Annual Income.\n",
    "no_outliers = non_na[(np.abs(stats.zscore(non_na[[\"Annual_Income\", \"Current_Credit_Balance\", \"Monthly_Debt\"]])) < 3)\n",
    "                     .all(axis=1)]\n",
    "print(\"Total Outliers removed\", len(non_na)-len(no_outliers))\n",
    "no_outliers.plot.scatter(x=\"Current_Credit_Balance\", y=\"Annual_Income\")\n"
   ]
  },
  {
   "cell_type": "code",
   "execution_count": 23,
   "metadata": {},
   "outputs": [
    {
     "data": {
      "text/plain": [
       "<matplotlib.axes._subplots.AxesSubplot at 0x117f05410>"
      ]
     },
     "execution_count": 23,
     "metadata": {},
     "output_type": "execute_result"
    },
    {
     "data": {
      "image/png": "[encoded data removed]",
      "text/plain": [
       "<Figure size 432x288 with 1 Axes>"
      ]
     },
     "metadata": {
      "needs_background": "light"
     },
     "output_type": "display_data"
    }
   ],
   "source": [
    "no_outliers.plot.scatter(x=\"Monthly_Debt\", y=\"Annual_Income\")"
   ]
  },
  {
   "cell_type": "code",
   "execution_count": 24,
   "metadata": {},
   "outputs": [
    {
     "data": {
      "text/plain": [
       "55201.46"
      ]
     },
     "execution_count": 24,
     "metadata": {},
     "output_type": "execute_result"
    }
   ],
   "source": [
    "max(no_outliers.Monthly_Debt)"
   ]
  },
  {
   "cell_type": "code",
   "execution_count": 25,
   "metadata": {},
   "outputs": [
    {
     "name": "stdout",
     "output_type": "stream",
     "text": [
      "{1: 952533.4096267696, 2: 1191153.48944434, 3: 1548702.095677138, 4: 1998983.7781880149, 5: 2470751.18742586, 6: 3063244.052319842, 7: 4281125.523809524}\n"
     ]
    },
    {
     "data": {
      "text/plain": [
       "Annual_Income                   100000\n",
       "Bankruptcies                     99796\n",
       "Credit_Score                     80846\n",
       "Current_Credit_Balance          100000\n",
       "Current_Loan_Amount             100000\n",
       "Home_Ownership                  100000\n",
       "Loan_Status                      67000\n",
       "Maximum_Open_Credit              99998\n",
       "Monthly_Debt                    100000\n",
       "Months_since_last_delinquent     46859\n",
       "Number_of_Credit_Problems       100000\n",
       "Number_of_Open_Accounts         100000\n",
       "Purpose                         100000\n",
       "Tax_Liens                        99990\n",
       "Term                            100000\n",
       "Years_in_current_job             87614\n",
       "Years_of_Credit_History         100000\n",
       "monthly_debt_bin                100000\n",
       "dtype: int64"
      ]
     },
     "execution_count": 25,
     "metadata": {},
     "output_type": "execute_result"
    }
   ],
   "source": [
    "bins = [0, 10000, 20000, 30000, 40000, 50000, 60000]\n",
    "labels = [1,2,3,4,5,6]\n",
    "\n",
    "total[\"monthly_debt_bin\"] = pd.cut(total.Monthly_Debt, bins=bins, labels=labels)\n",
    "# Fill NaN monthly_debt_bin with label 7 (All bins > 60000)\n",
    "total[\"monthly_debt_bin\"] = total[\"monthly_debt_bin\"].fillna(7)\n",
    "labels.append(7)\n",
    "\n",
    "# Compute monthly_debt to avg. annual income dict\n",
    "debt_avg_income = {}\n",
    "for label in labels:\n",
    "    debt_avg_income[label] = np.nanmean(total[total.monthly_debt_bin==label].Annual_Income)\n",
    "debt_avg_income\n",
    "\n",
    "print(debt_avg_income)\n",
    "def fill_income(entry):\n",
    "    annual_income, monthly_debt_bin = entry['Annual_Income'], entry['monthly_debt_bin']\n",
    "    if np.isnan(annual_income):\n",
    "        return debt_avg_income[monthly_debt_bin]\n",
    "    else:\n",
    "        return annual_income\n",
    "    \n",
    "# Fill all empty Annual Income entries using debt_avg_income dict\n",
    "total[\"Annual_Income\"] = total.apply(lambda x: fill_income(x), axis=1)\n",
    "total.count()"
   ]
  },
  {
   "cell_type": "markdown",
   "metadata": {},
   "source": [
    "### Fill in Bankruptcies using Number_of_Credit_Problems"
   ]
  },
  {
   "cell_type": "code",
   "execution_count": 26,
   "metadata": {},
   "outputs": [
    {
     "data": {
      "text/plain": [
       "<matplotlib.axes._subplots.AxesSubplot at 0x121315790>"
      ]
     },
     "execution_count": 26,
     "metadata": {},
     "output_type": "execute_result"
    },
    {
     "data": {
      "image/png": "[encoded data removed]",
      "text/plain": [
       "<Figure size 432x288 with 1 Axes>"
      ]
     },
     "metadata": {
      "needs_background": "light"
     },
     "output_type": "display_data"
    }
   ],
   "source": [
    "total.plot.scatter(x=\"Number_of_Credit_Problems\", y=\"Bankruptcies\")"
   ]
  },
  {
   "cell_type": "code",
   "execution_count": 27,
   "metadata": {},
   "outputs": [
    {
     "data": {
      "text/plain": [
       "3    83\n",
       "4     9\n",
       "7     1\n",
       "dtype: int64"
      ]
     },
     "execution_count": 27,
     "metadata": {},
     "output_type": "execute_result"
    }
   ],
   "source": [
    "total[total.Bankruptcies == 3][\"Number_of_Credit_Problems\"].value_counts()"
   ]
  },
  {
   "cell_type": "markdown",
   "metadata": {},
   "source": [
    "- It can be observed that Number of Credit Problems is usually same as that of number of Bankruptcies."
   ]
  },
  {
   "cell_type": "code",
   "execution_count": 28,
   "metadata": {},
   "outputs": [
    {
     "data": {
      "text/plain": [
       "Annual_Income                   100000\n",
       "Bankruptcies                    100000\n",
       "Credit_Score                     80846\n",
       "Current_Credit_Balance          100000\n",
       "Current_Loan_Amount             100000\n",
       "Home_Ownership                  100000\n",
       "Loan_Status                      67000\n",
       "Maximum_Open_Credit              99998\n",
       "Monthly_Debt                    100000\n",
       "Months_since_last_delinquent     46859\n",
       "Number_of_Credit_Problems       100000\n",
       "Number_of_Open_Accounts         100000\n",
       "Purpose                         100000\n",
       "Tax_Liens                        99990\n",
       "Term                            100000\n",
       "Years_in_current_job             87614\n",
       "Years_of_Credit_History         100000\n",
       "monthly_debt_bin                100000\n",
       "dtype: int64"
      ]
     },
     "execution_count": 28,
     "metadata": {},
     "output_type": "execute_result"
    }
   ],
   "source": [
    "# Fill all empty Bankruptcies entries using Number of credit problems\n",
    "total[\"Bankruptcies\"] = total['Bankruptcies'].fillna(total['Number_of_Credit_Problems'])\n",
    "total.count()"
   ]
  },
  {
   "cell_type": "markdown",
   "metadata": {},
   "source": [
    "### Fill in Credit Score using Loan Amount\n",
    " - Credit_Score is related to Loan Amount & Term."
   ]
  },
  {
   "cell_type": "code",
   "execution_count": 29,
   "metadata": {},
   "outputs": [
    {
     "name": "stdout",
     "output_type": "stream",
     "text": [
      "80846 80846\n",
      "No outliers were removed as the scale of the data is within permeable range\n"
     ]
    },
    {
     "data": {
      "text/plain": [
       "count       11484.0\n",
       "mean     99999999.0\n",
       "std             0.0\n",
       "min      99999999.0\n",
       "25%      99999999.0\n",
       "50%      99999999.0\n",
       "75%      99999999.0\n",
       "max      99999999.0\n",
       "Name: Current_Loan_Amount, dtype: float64"
      ]
     },
     "execution_count": 29,
     "metadata": {},
     "output_type": "execute_result"
    },
    {
     "data": {
      "image/png": "[encoded data removed]",
      "text/plain": [
       "<Figure size 432x288 with 1 Axes>"
      ]
     },
     "metadata": {
      "needs_background": "light"
     },
     "output_type": "display_data"
    }
   ],
   "source": [
    "# Remove Outliers from the data to compute Annual Income.\n",
    "non_na = total.dropna(subset=[\"Current_Loan_Amount\", \"Credit_Score\", \"Term\"])\n",
    "no_outliers = non_na[(np.abs(stats.zscore(non_na[[\"Current_Loan_Amount\"]])) < 3)\n",
    "                     .all(axis=1)]\n",
    "print(len(non_na), len(no_outliers))\n",
    "print(\"No outliers were removed as the scale of the data is within permeable range\")\n",
    "no_outliers[\"Current_Loan_Amount\"].describe()\n",
    "sns.kdeplot(no_outliers[no_outliers[\"Current_Loan_Amount\"] < 10**7][\"Current_Loan_Amount\"])\n",
    "no_outliers[no_outliers[\"Current_Loan_Amount\"] > 10**7][\"Current_Loan_Amount\"].describe()"
   ]
  },
  {
   "cell_type": "markdown",
   "metadata": {},
   "source": [
    " - It looks like all the 99999999.0 entries are a mistake, hence replacing them by NaNs and then later filling the same using closely related attributes."
   ]
  },
  {
   "cell_type": "code",
   "execution_count": 30,
   "metadata": {},
   "outputs": [
    {
     "data": {
      "text/plain": [
       "Annual_Income                   0.349325\n",
       "Bankruptcies                   -0.100503\n",
       "Credit_Score                   -0.223647\n",
       "Current_Credit_Balance          0.333304\n",
       "Current_Loan_Amount             1.000000\n",
       "Home_Ownership                 -0.126558\n",
       "Loan_Status                    -0.037954\n",
       "Maximum_Open_Credit             0.034852\n",
       "Monthly_Debt                    0.438728\n",
       "Months_since_last_delinquent   -0.037615\n",
       "Number_of_Credit_Problems      -0.076698\n",
       "Number_of_Open_Accounts         0.203099\n",
       "Tax_Liens                       0.017230\n",
       "Term                            0.425409\n",
       "Years_in_current_job            0.112061\n",
       "Years_of_Credit_History         0.157962\n",
       "monthly_debt_bin                0.432215\n",
       "Name: Current_Loan_Amount, dtype: float64"
      ]
     },
     "execution_count": 30,
     "metadata": {},
     "output_type": "execute_result"
    }
   ],
   "source": [
    "total[\"Current_Loan_Amount\"] = total[\"Current_Loan_Amount\"].map(lambda x: None if x > 10**7 else x)\n",
    "total.corr()[\"Current_Loan_Amount\"]"
   ]
  },
  {
   "cell_type": "markdown",
   "metadata": {},
   "source": [
    "### Fill in Current Loan Amount using Annual Income and Monthly Debt"
   ]
  },
  {
   "cell_type": "code",
   "execution_count": 31,
   "metadata": {},
   "outputs": [
    {
     "name": "stdout",
     "output_type": "stream",
     "text": [
      "No particular pattern exists between Monthly_Debt and Current_Loan_Amount\n"
     ]
    },
    {
     "data": {
      "image/png": "[encoded data removed]",
      "text/plain": [
       "<Figure size 432x288 with 1 Axes>"
      ]
     },
     "metadata": {
      "needs_background": "light"
     },
     "output_type": "display_data"
    }
   ],
   "source": [
    "non_na = total.dropna(subset=[\"Monthly_Debt\", \"Current_Loan_Amount\"])\n",
    "no_outliers = non_na[(np.abs(stats.zscore(non_na[[\"Current_Loan_Amount\", \"Monthly_Debt\"]])) < 3)\n",
    "                     .all(axis=1)]\n",
    "sns.scatterplot(no_outliers[\"Monthly_Debt\"], no_outliers[\"Current_Loan_Amount\"])\n",
    "print(\"No particular pattern exists between Monthly_Debt and Current_Loan_Amount\")"
   ]
  },
  {
   "cell_type": "code",
   "execution_count": 32,
   "metadata": {},
   "outputs": [
    {
     "name": "stdout",
     "output_type": "stream",
     "text": [
      "It can be observed that no particular pattern is observed between Monthly_Debt & Current_Loan_Amount\n"
     ]
    },
    {
     "data": {
      "text/plain": [
       "Annual_Income                   100000\n",
       "Bankruptcies                    100000\n",
       "Credit_Score                     80846\n",
       "Current_Credit_Balance          100000\n",
       "Current_Loan_Amount             100000\n",
       "Home_Ownership                  100000\n",
       "Loan_Status                      67000\n",
       "Maximum_Open_Credit              99998\n",
       "Monthly_Debt                    100000\n",
       "Months_since_last_delinquent     46859\n",
       "Number_of_Credit_Problems       100000\n",
       "Number_of_Open_Accounts         100000\n",
       "Purpose                         100000\n",
       "Tax_Liens                        99990\n",
       "Term                            100000\n",
       "Years_in_current_job             87614\n",
       "Years_of_Credit_History         100000\n",
       "monthly_debt_bin                100000\n",
       "dtype: int64"
      ]
     },
     "execution_count": 32,
     "metadata": {},
     "output_type": "execute_result"
    }
   ],
   "source": [
    "print(\"It can be observed that no particular pattern is observed between Monthly_Debt & Current_Loan_Amount\")\n",
    "total[\"Current_Loan_Amount\"] = total[\"Current_Loan_Amount\"].fillna(np.nanmean(total[\"Current_Loan_Amount\"]))\n",
    "total.count()"
   ]
  },
  {
   "cell_type": "markdown",
   "metadata": {},
   "source": [
    "### Fill in Credit Score"
   ]
  },
  {
   "cell_type": "code",
   "execution_count": 33,
   "metadata": {},
   "outputs": [
    {
     "data": {
      "text/plain": [
       "Annual_Income                  -0.005092\n",
       "Bankruptcies                   -0.034531\n",
       "Credit_Score                    1.000000\n",
       "Current_Credit_Balance         -0.015964\n",
       "Current_Loan_Amount            -0.209461\n",
       "Home_Ownership                 -0.031171\n",
       "Loan_Status                     0.102718\n",
       "Maximum_Open_Credit             0.017392\n",
       "Monthly_Debt                   -0.091347\n",
       "Months_since_last_delinquent    0.041937\n",
       "Number_of_Credit_Problems      -0.047260\n",
       "Number_of_Open_Accounts        -0.030063\n",
       "Tax_Liens                      -0.020593\n",
       "Term                           -0.465211\n",
       "Years_in_current_job           -0.017593\n",
       "Years_of_Credit_History         0.077718\n",
       "monthly_debt_bin               -0.091451\n",
       "Name: Credit_Score, dtype: float64"
      ]
     },
     "execution_count": 33,
     "metadata": {},
     "output_type": "execute_result"
    }
   ],
   "source": [
    "total.corr()[\"Credit_Score\"]"
   ]
  },
  {
   "cell_type": "code",
   "execution_count": 34,
   "metadata": {},
   "outputs": [
    {
     "data": {
      "text/plain": [
       "<matplotlib.axes._subplots.AxesSubplot at 0x24c1da850>"
      ]
     },
     "execution_count": 34,
     "metadata": {},
     "output_type": "execute_result"
    },
    {
     "data": {
      "image/png": "[encoded data removed]",
      "text/plain": [
       "<Figure size 432x288 with 1 Axes>"
      ]
     },
     "metadata": {
      "needs_background": "light"
     },
     "output_type": "display_data"
    }
   ],
   "source": [
    "sns.kdeplot(total[\"Credit_Score\"].dropna())"
   ]
  },
  {
   "cell_type": "code",
   "execution_count": 35,
   "metadata": {},
   "outputs": [
    {
     "data": {
      "text/plain": [
       "count    7.803300e+04\n",
       "mean     2.945201e+05\n",
       "std      3.828765e+05\n",
       "min      0.000000e+00\n",
       "25%      1.122900e+05\n",
       "50%      2.098930e+05\n",
       "75%      3.667570e+05\n",
       "max      3.287897e+07\n",
       "Name: Current_Credit_Balance, dtype: float64"
      ]
     },
     "execution_count": 35,
     "metadata": {},
     "output_type": "execute_result"
    }
   ],
   "source": [
    "# Observe entities with Credit Score less than 700\n",
    "total[total[\"Credit_Score\"] > 650][\"Current_Credit_Balance\"].describe()"
   ]
  },
  {
   "cell_type": "code",
   "execution_count": 36,
   "metadata": {},
   "outputs": [
    {
     "data": {
      "text/plain": [
       "count    2.702000e+03\n",
       "mean     3.080563e+05\n",
       "std      3.449612e+05\n",
       "min      0.000000e+00\n",
       "25%      1.198710e+05\n",
       "50%      2.283040e+05\n",
       "75%      4.026290e+05\n",
       "max      6.489013e+06\n",
       "Name: Current_Credit_Balance, dtype: float64"
      ]
     },
     "execution_count": 36,
     "metadata": {},
     "output_type": "execute_result"
    }
   ],
   "source": [
    "total[total[\"Credit_Score\"] < 650][\"Current_Credit_Balance\"].describe()"
   ]
  },
  {
   "cell_type": "code",
   "execution_count": 37,
   "metadata": {},
   "outputs": [
    {
     "name": "stdout",
     "output_type": "stream",
     "text": [
      "Note that People with lower Credit Score have higher Current_Credit_Balance\n"
     ]
    },
    {
     "data": {
      "text/plain": [
       "Annual_Income                   100000\n",
       "Bankruptcies                    100000\n",
       "Credit_Score                    100000\n",
       "Current_Credit_Balance          100000\n",
       "Current_Loan_Amount             100000\n",
       "Home_Ownership                  100000\n",
       "Loan_Status                      67000\n",
       "Maximum_Open_Credit              99998\n",
       "Monthly_Debt                    100000\n",
       "Months_since_last_delinquent     46859\n",
       "Number_of_Credit_Problems       100000\n",
       "Number_of_Open_Accounts         100000\n",
       "Purpose                         100000\n",
       "Tax_Liens                        99990\n",
       "Term                            100000\n",
       "Years_in_current_job             87614\n",
       "Years_of_Credit_History         100000\n",
       "monthly_debt_bin                100000\n",
       "dtype: int64"
      ]
     },
     "execution_count": 37,
     "metadata": {},
     "output_type": "execute_result"
    }
   ],
   "source": [
    "print(\"Note that People with lower Credit Score have higher Current_Credit_Balance\")\n",
    "new_credit_scores = []\n",
    "\n",
    "def fill_credit_score(entry):\n",
    "    credit_score, current_credit_balance = entry['Credit_Score'], entry['Current_Credit_Balance']\n",
    "    if np.isnan(credit_score):\n",
    "        if current_credit_balance > 3 * (10**5):\n",
    "            return randint(575, 650)\n",
    "        else:\n",
    "            return randint(650, 730)\n",
    "    else:\n",
    "        return credit_score\n",
    "    \n",
    "# Fill all empty Annual Income entries using debt_avg_income dict\n",
    "total[\"Credit_Score\"] = total.apply(lambda x: fill_credit_score(x), axis=1)\n",
    "total.count()"
   ]
  },
  {
   "cell_type": "markdown",
   "metadata": {},
   "source": [
    "### Fill Maximum_Open_Credit"
   ]
  },
  {
   "cell_type": "code",
   "execution_count": 38,
   "metadata": {},
   "outputs": [
    {
     "data": {
      "text/plain": [
       "0.0          681\n",
       "237204.0      13\n",
       "246136.0      12\n",
       "150194.0      12\n",
       "236412.0      12\n",
       "            ... \n",
       "1010328.0      1\n",
       "439626.0       1\n",
       "1397990.0      1\n",
       "743490.0       1\n",
       "1904210.0      1\n",
       "Length: 44596, dtype: int64"
      ]
     },
     "execution_count": 38,
     "metadata": {},
     "output_type": "execute_result"
    }
   ],
   "source": [
    "total.Maximum_Open_Credit.value_counts()"
   ]
  },
  {
   "cell_type": "code",
   "execution_count": 39,
   "metadata": {},
   "outputs": [
    {
     "name": "stdout",
     "output_type": "stream",
     "text": [
      "Majority of the Maximum Open Credits are 0. It'd not cause harm to fill the non-existent with 0s\n"
     ]
    },
    {
     "data": {
      "text/plain": [
       "Annual_Income                   100000\n",
       "Bankruptcies                    100000\n",
       "Credit_Score                    100000\n",
       "Current_Credit_Balance          100000\n",
       "Current_Loan_Amount             100000\n",
       "Home_Ownership                  100000\n",
       "Loan_Status                      67000\n",
       "Maximum_Open_Credit             100000\n",
       "Monthly_Debt                    100000\n",
       "Months_since_last_delinquent     46859\n",
       "Number_of_Credit_Problems       100000\n",
       "Number_of_Open_Accounts         100000\n",
       "Purpose                         100000\n",
       "Tax_Liens                        99990\n",
       "Term                            100000\n",
       "Years_in_current_job             87614\n",
       "Years_of_Credit_History         100000\n",
       "monthly_debt_bin                100000\n",
       "dtype: int64"
      ]
     },
     "execution_count": 39,
     "metadata": {},
     "output_type": "execute_result"
    }
   ],
   "source": [
    "print(\"Majority of the Maximum Open Credits are 0. It'd not cause harm to fill the non-existent with 0s\")\n",
    "total[\"Maximum_Open_Credit\"] = total[\"Maximum_Open_Credit\"].fillna(0) \n",
    "total.count()"
   ]
  },
  {
   "cell_type": "markdown",
   "metadata": {},
   "source": [
    "### Fill Months_since_last_delinquent"
   ]
  },
  {
   "cell_type": "code",
   "execution_count": 40,
   "metadata": {},
   "outputs": [
    {
     "data": {
      "text/plain": [
       "13.0     922\n",
       "12.0     902\n",
       "14.0     877\n",
       "15.0     865\n",
       "10.0     861\n",
       "        ... \n",
       "115.0      1\n",
       "130.0      1\n",
       "131.0      1\n",
       "110.0      1\n",
       "106.0      1\n",
       "Length: 116, dtype: int64"
      ]
     },
     "execution_count": 40,
     "metadata": {},
     "output_type": "execute_result"
    }
   ],
   "source": [
    "total[\"Months_since_last_delinquent\"].value_counts()"
   ]
  },
  {
   "cell_type": "code",
   "execution_count": 41,
   "metadata": {},
   "outputs": [
    {
     "name": "stdout",
     "output_type": "stream",
     "text": [
      "No corelation is found which can be utilised\n"
     ]
    },
    {
     "data": {
      "text/plain": [
       "Annual_Income                  -0.072169\n",
       "Bankruptcies                    0.124505\n",
       "Credit_Score                    0.030911\n",
       "Current_Credit_Balance         -0.028662\n",
       "Current_Loan_Amount            -0.035463\n",
       "Home_Ownership                  0.027507\n",
       "Loan_Status                     0.015228\n",
       "Maximum_Open_Credit            -0.008784\n",
       "Monthly_Debt                   -0.056818\n",
       "Months_since_last_delinquent    1.000000\n",
       "Number_of_Credit_Problems       0.104642\n",
       "Number_of_Open_Accounts        -0.032569\n",
       "Tax_Liens                       0.012624\n",
       "Term                           -0.014905\n",
       "Years_in_current_job           -0.009268\n",
       "Years_of_Credit_History        -0.044292\n",
       "monthly_debt_bin               -0.055958\n",
       "Name: Months_since_last_delinquent, dtype: float64"
      ]
     },
     "execution_count": 41,
     "metadata": {},
     "output_type": "execute_result"
    }
   ],
   "source": [
    "print(\"No corelation is found which can be utilised\")\n",
    "total.corr()[\"Months_since_last_delinquent\"]"
   ]
  },
  {
   "cell_type": "code",
   "execution_count": 42,
   "metadata": {},
   "outputs": [
    {
     "data": {
      "text/plain": [
       "<matplotlib.axes._subplots.AxesSubplot at 0x121a17b50>"
      ]
     },
     "execution_count": 42,
     "metadata": {},
     "output_type": "execute_result"
    },
    {
     "data": {
      "image/png": "[encoded data removed]",
      "text/plain": [
       "<Figure size 432x288 with 1 Axes>"
      ]
     },
     "metadata": {
      "needs_background": "light"
     },
     "output_type": "display_data"
    }
   ],
   "source": [
    "sns.kdeplot(total[\"Months_since_last_delinquent\"].dropna())"
   ]
  },
  {
   "cell_type": "code",
   "execution_count": 43,
   "metadata": {},
   "outputs": [
    {
     "data": {
      "text/plain": [
       "count        21.000000\n",
       "mean     189169.428571\n",
       "std      131238.076995\n",
       "min        3021.000000\n",
       "25%       69179.000000\n",
       "50%      156769.000000\n",
       "75%      299877.000000\n",
       "max      429951.000000\n",
       "Name: Current_Credit_Balance, dtype: float64"
      ]
     },
     "execution_count": 43,
     "metadata": {},
     "output_type": "execute_result"
    }
   ],
   "source": [
    "# Is there any pattern with Months_since_last_delinquent > 100\n",
    "total[total[\"Months_since_last_delinquent\"]>100][\"Current_Credit_Balance\"].describe()"
   ]
  },
  {
   "cell_type": "code",
   "execution_count": 44,
   "metadata": {},
   "outputs": [
    {
     "data": {
      "text/plain": [
       "Annual_Income                   100000\n",
       "Bankruptcies                    100000\n",
       "Credit_Score                    100000\n",
       "Current_Credit_Balance          100000\n",
       "Current_Loan_Amount             100000\n",
       "Home_Ownership                  100000\n",
       "Loan_Status                      67000\n",
       "Maximum_Open_Credit             100000\n",
       "Monthly_Debt                    100000\n",
       "Months_since_last_delinquent    100000\n",
       "Number_of_Credit_Problems       100000\n",
       "Number_of_Open_Accounts         100000\n",
       "Purpose                         100000\n",
       "Tax_Liens                        99990\n",
       "Term                            100000\n",
       "Years_in_current_job             87614\n",
       "Years_of_Credit_History         100000\n",
       "monthly_debt_bin                100000\n",
       "dtype: int64"
      ]
     },
     "execution_count": 44,
     "metadata": {},
     "output_type": "execute_result"
    }
   ],
   "source": [
    "total[\"Months_since_last_delinquent\"] = total[\"Months_since_last_delinquent\"].fillna(randint(1,80))\n",
    "total.count()"
   ]
  },
  {
   "cell_type": "markdown",
   "metadata": {},
   "source": [
    "### Fill Tax-Liens"
   ]
  },
  {
   "cell_type": "code",
   "execution_count": 45,
   "metadata": {},
   "outputs": [
    {
     "data": {
      "text/plain": [
       "0.0     98062\n",
       "1.0      1343\n",
       "2.0       374\n",
       "3.0       111\n",
       "4.0        58\n",
       "5.0        16\n",
       "6.0        12\n",
       "7.0         7\n",
       "9.0         3\n",
       "11.0        2\n",
       "15.0        1\n",
       "10.0        1\n",
       "dtype: int64"
      ]
     },
     "execution_count": 45,
     "metadata": {},
     "output_type": "execute_result"
    }
   ],
   "source": [
    "total[\"Tax_Liens\"].value_counts()"
   ]
  },
  {
   "cell_type": "code",
   "execution_count": 46,
   "metadata": {},
   "outputs": [
    {
     "name": "stdout",
     "output_type": "stream",
     "text": [
      "Since only 10 entries of the 1L entries are missing, we can fill it with the most repeated element\n"
     ]
    },
    {
     "data": {
      "text/plain": [
       "Annual_Income                   100000\n",
       "Bankruptcies                    100000\n",
       "Credit_Score                    100000\n",
       "Current_Credit_Balance          100000\n",
       "Current_Loan_Amount             100000\n",
       "Home_Ownership                  100000\n",
       "Loan_Status                      67000\n",
       "Maximum_Open_Credit             100000\n",
       "Monthly_Debt                    100000\n",
       "Months_since_last_delinquent    100000\n",
       "Number_of_Credit_Problems       100000\n",
       "Number_of_Open_Accounts         100000\n",
       "Purpose                         100000\n",
       "Tax_Liens                       100000\n",
       "Term                            100000\n",
       "Years_in_current_job             87614\n",
       "Years_of_Credit_History         100000\n",
       "monthly_debt_bin                100000\n",
       "dtype: int64"
      ]
     },
     "execution_count": 46,
     "metadata": {},
     "output_type": "execute_result"
    }
   ],
   "source": [
    "print(\"Since only 10 entries of the 1L entries are missing, we can fill it with the most repeated element\")\n",
    "total[\"Tax_Liens\"] = total[\"Tax_Liens\"].fillna(0)\n",
    "total.count()"
   ]
  },
  {
   "cell_type": "markdown",
   "metadata": {},
   "source": [
    "### Fill Years in Current job"
   ]
  },
  {
   "cell_type": "code",
   "execution_count": 47,
   "metadata": {},
   "outputs": [
    {
     "data": {
      "text/plain": [
       "Annual_Income                   0.072410\n",
       "Bankruptcies                    0.034665\n",
       "Credit_Score                   -0.027434\n",
       "Current_Credit_Balance          0.096627\n",
       "Current_Loan_Amount             0.105401\n",
       "Home_Ownership                 -0.098080\n",
       "Loan_Status                     0.004208\n",
       "Maximum_Open_Credit             0.004409\n",
       "Monthly_Debt                    0.120666\n",
       "Months_since_last_delinquent    0.032683\n",
       "Number_of_Credit_Problems       0.035567\n",
       "Number_of_Open_Accounts         0.047419\n",
       "Tax_Liens                       0.015027\n",
       "Term                            0.067854\n",
       "Years_in_current_job            1.000000\n",
       "Years_of_Credit_History         0.231829\n",
       "monthly_debt_bin                0.121259\n",
       "Name: Years_in_current_job, dtype: float64"
      ]
     },
     "execution_count": 47,
     "metadata": {},
     "output_type": "execute_result"
    }
   ],
   "source": [
    "total.corr()[\"Years_in_current_job\"]"
   ]
  },
  {
   "cell_type": "code",
   "execution_count": 48,
   "metadata": {},
   "outputs": [
    {
     "name": "stdout",
     "output_type": "stream",
     "text": [
      "No pattern found\n"
     ]
    },
    {
     "data": {
      "text/plain": [
       "Annual_Income                   100000\n",
       "Bankruptcies                    100000\n",
       "Credit_Score                    100000\n",
       "Current_Credit_Balance          100000\n",
       "Current_Loan_Amount             100000\n",
       "Home_Ownership                  100000\n",
       "Loan_Status                      67000\n",
       "Maximum_Open_Credit             100000\n",
       "Monthly_Debt                    100000\n",
       "Months_since_last_delinquent    100000\n",
       "Number_of_Credit_Problems       100000\n",
       "Number_of_Open_Accounts         100000\n",
       "Purpose                         100000\n",
       "Tax_Liens                       100000\n",
       "Term                            100000\n",
       "Years_in_current_job            100000\n",
       "Years_of_Credit_History         100000\n",
       "monthly_debt_bin                100000\n",
       "dtype: int64"
      ]
     },
     "execution_count": 48,
     "metadata": {},
     "output_type": "execute_result"
    },
    {
     "data": {
      "image/png": "[encoded data removed]",
      "text/plain": [
       "<Figure size 432x288 with 1 Axes>"
      ]
     },
     "metadata": {
      "needs_background": "light"
     },
     "output_type": "display_data"
    }
   ],
   "source": [
    "sns.scatterplot(total[\"Years_of_Credit_History\"], total[\"Years_in_current_job\"])\n",
    "print(\"No pattern found\")\n",
    "avg_exp = np.nanmean(total[\"Years_in_current_job\"])\n",
    "total[\"Years_in_current_job\"] = total[\"Years_in_current_job\"].fillna(avg_exp)\n",
    "total.count()"
   ]
  },
  {
   "cell_type": "markdown",
   "metadata": {},
   "source": [
    "### TODO\n",
    " - Filling NaNs v/s dropping Months_since_last_delinquent\n",
    " - Relook at strategies to fill Years_of_Credit_History, Years_in_current_job\n",
    " - Can we use purpose to come up with better predictions"
   ]
  },
  {
   "cell_type": "code",
   "execution_count": 49,
   "metadata": {},
   "outputs": [],
   "source": [
    "total = total.drop(columns=[\"Purpose\", \"Months_since_last_delinquent\"], axis=1)"
   ]
  },
  {
   "cell_type": "code",
   "execution_count": 50,
   "metadata": {},
   "outputs": [],
   "source": [
    "filled_train = total.head(len(train))\n",
    "filled_train[\"Loan_Status\"] = filled_train[\"Loan_Status\"].astype(int)\n",
    "\n",
    "filled_test = total.tail(len(test))"
   ]
  },
  {
   "cell_type": "markdown",
   "metadata": {},
   "source": [
    "### Training of the model"
   ]
  },
  {
   "cell_type": "code",
   "execution_count": 59,
   "metadata": {},
   "outputs": [
    {
     "name": "stdout",
     "output_type": "stream",
     "text": [
      "Model Trained on 66998 entries.\n"
     ]
    }
   ],
   "source": [
    "features_cols = list(filled_train.columns)\n",
    "features_cols.remove(\"Loan_Status\")\n",
    "\n",
    "X = filled_train[features_cols] # Features\n",
    "y = filled_train[\"Loan_Status\"] # Target variable\n",
    "\n",
    "# Split dataset into training set and test set\n",
    "X_train, X_test, y_train, y_test = train_test_split(X, y, test_size=2, random_state=1)\n",
    "\n",
    "# Create classifer object\n",
    "lr = linear_model.LogisticRegression()\n",
    "nb = GaussianNB()\n",
    "clf = BaggingClassifier(base_estimator=nb, n_estimators=30)\n",
    "clf = lr.fit(X.to_numpy(),y.to_numpy())\n",
    "\n",
    "#Predict the response for test dataset\n",
    "y_pred = clf.predict(filled_test[features_cols].to_numpy())\n",
    "\n",
    "\n",
    "# Model Accuracy, how often is the classifier correct?\n",
    "print(\"Model Trained on\", len(X_train), \"entries.\")\n",
    "# print(\"Accuracy:\", accuracy_score(y_test, y_pred))\n"
   ]
  },
  {
   "cell_type": "code",
   "execution_count": 61,
   "metadata": {},
   "outputs": [],
   "source": [
    "import pickle\n",
    "with open('logistic_regression_all.pkl', 'wb') as fid:\n",
    "    pickle.dump(clf, fid) "
   ]
  },
  {
   "cell_type": "code",
   "execution_count": 62,
   "metadata": {},
   "outputs": [
    {
     "data": {
      "text/html": [
       "<div>\n",
       "<style scoped>\n",
       "    .dataframe tbody tr th:only-of-type {\n",
       "        vertical-align: middle;\n",
       "    }\n",
       "\n",
       "    .dataframe tbody tr th {\n",
       "        vertical-align: top;\n",
       "    }\n",
       "\n",
       "    .dataframe thead th {\n",
       "        text-align: right;\n",
       "    }\n",
       "</style>\n",
       "<table border=\"1\" class=\"dataframe\">\n",
       "  <thead>\n",
       "    <tr style=\"text-align: right;\">\n",
       "      <th></th>\n",
       "      <th>Annual_Income</th>\n",
       "      <th>Bankruptcies</th>\n",
       "      <th>Credit_Score</th>\n",
       "      <th>Current_Credit_Balance</th>\n",
       "      <th>Current_Loan_Amount</th>\n",
       "      <th>Home_Ownership</th>\n",
       "      <th>Loan_Status</th>\n",
       "      <th>Maximum_Open_Credit</th>\n",
       "      <th>Monthly_Debt</th>\n",
       "      <th>Number_of_Credit_Problems</th>\n",
       "      <th>Number_of_Open_Accounts</th>\n",
       "      <th>Tax_Liens</th>\n",
       "      <th>Term</th>\n",
       "      <th>Years_in_current_job</th>\n",
       "      <th>Years_of_Credit_History</th>\n",
       "      <th>monthly_debt_bin</th>\n",
       "    </tr>\n",
       "  </thead>\n",
       "  <tbody>\n",
       "    <tr>\n",
       "      <td>0</td>\n",
       "      <td>8.927910e+05</td>\n",
       "      <td>0.0</td>\n",
       "      <td>741.0</td>\n",
       "      <td>86811</td>\n",
       "      <td>134838.0</td>\n",
       "      <td>2</td>\n",
       "      <td>1</td>\n",
       "      <td>141570.0</td>\n",
       "      <td>3303.34</td>\n",
       "      <td>0</td>\n",
       "      <td>20</td>\n",
       "      <td>0.0</td>\n",
       "      <td>0</td>\n",
       "      <td>2.000000</td>\n",
       "      <td>9.6</td>\n",
       "      <td>1.0</td>\n",
       "    </tr>\n",
       "    <tr>\n",
       "      <td>1</td>\n",
       "      <td>8.213320e+05</td>\n",
       "      <td>1.0</td>\n",
       "      <td>713.0</td>\n",
       "      <td>198854</td>\n",
       "      <td>341022.0</td>\n",
       "      <td>2</td>\n",
       "      <td>0</td>\n",
       "      <td>451440.0</td>\n",
       "      <td>11361.62</td>\n",
       "      <td>1</td>\n",
       "      <td>13</td>\n",
       "      <td>0.0</td>\n",
       "      <td>0</td>\n",
       "      <td>9.000000</td>\n",
       "      <td>12.0</td>\n",
       "      <td>2.0</td>\n",
       "    </tr>\n",
       "    <tr>\n",
       "      <td>2</td>\n",
       "      <td>7.745160e+05</td>\n",
       "      <td>1.0</td>\n",
       "      <td>729.0</td>\n",
       "      <td>158612</td>\n",
       "      <td>66638.0</td>\n",
       "      <td>2</td>\n",
       "      <td>1</td>\n",
       "      <td>355212.0</td>\n",
       "      <td>17039.20</td>\n",
       "      <td>1</td>\n",
       "      <td>12</td>\n",
       "      <td>0.0</td>\n",
       "      <td>0</td>\n",
       "      <td>6.441413</td>\n",
       "      <td>31.7</td>\n",
       "      <td>2.0</td>\n",
       "    </tr>\n",
       "    <tr>\n",
       "      <td>3</td>\n",
       "      <td>6.116480e+05</td>\n",
       "      <td>1.0</td>\n",
       "      <td>705.0</td>\n",
       "      <td>10754</td>\n",
       "      <td>85316.0</td>\n",
       "      <td>2</td>\n",
       "      <td>1</td>\n",
       "      <td>207460.0</td>\n",
       "      <td>11621.16</td>\n",
       "      <td>1</td>\n",
       "      <td>6</td>\n",
       "      <td>0.0</td>\n",
       "      <td>0</td>\n",
       "      <td>2.000000</td>\n",
       "      <td>12.9</td>\n",
       "      <td>2.0</td>\n",
       "    </tr>\n",
       "    <tr>\n",
       "      <td>4</td>\n",
       "      <td>1.134300e+06</td>\n",
       "      <td>0.0</td>\n",
       "      <td>714.0</td>\n",
       "      <td>193420</td>\n",
       "      <td>262680.0</td>\n",
       "      <td>4</td>\n",
       "      <td>1</td>\n",
       "      <td>420178.0</td>\n",
       "      <td>6276.46</td>\n",
       "      <td>0</td>\n",
       "      <td>13</td>\n",
       "      <td>0.0</td>\n",
       "      <td>0</td>\n",
       "      <td>6.441413</td>\n",
       "      <td>19.4</td>\n",
       "      <td>1.0</td>\n",
       "    </tr>\n",
       "    <tr>\n",
       "      <td>...</td>\n",
       "      <td>...</td>\n",
       "      <td>...</td>\n",
       "      <td>...</td>\n",
       "      <td>...</td>\n",
       "      <td>...</td>\n",
       "      <td>...</td>\n",
       "      <td>...</td>\n",
       "      <td>...</td>\n",
       "      <td>...</td>\n",
       "      <td>...</td>\n",
       "      <td>...</td>\n",
       "      <td>...</td>\n",
       "      <td>...</td>\n",
       "      <td>...</td>\n",
       "      <td>...</td>\n",
       "      <td>...</td>\n",
       "    </tr>\n",
       "    <tr>\n",
       "      <td>66995</td>\n",
       "      <td>9.525334e+05</td>\n",
       "      <td>0.0</td>\n",
       "      <td>689.0</td>\n",
       "      <td>294842</td>\n",
       "      <td>397496.0</td>\n",
       "      <td>1</td>\n",
       "      <td>1</td>\n",
       "      <td>816728.0</td>\n",
       "      <td>6590.91</td>\n",
       "      <td>0</td>\n",
       "      <td>5</td>\n",
       "      <td>0.0</td>\n",
       "      <td>0</td>\n",
       "      <td>10.000000</td>\n",
       "      <td>26.4</td>\n",
       "      <td>1.0</td>\n",
       "    </tr>\n",
       "    <tr>\n",
       "      <td>66996</td>\n",
       "      <td>9.525334e+05</td>\n",
       "      <td>0.0</td>\n",
       "      <td>575.0</td>\n",
       "      <td>352146</td>\n",
       "      <td>499950.0</td>\n",
       "      <td>1</td>\n",
       "      <td>0</td>\n",
       "      <td>1311090.0</td>\n",
       "      <td>9396.83</td>\n",
       "      <td>0</td>\n",
       "      <td>10</td>\n",
       "      <td>0.0</td>\n",
       "      <td>0</td>\n",
       "      <td>2.000000</td>\n",
       "      <td>21.2</td>\n",
       "      <td>1.0</td>\n",
       "    </tr>\n",
       "    <tr>\n",
       "      <td>66997</td>\n",
       "      <td>1.979990e+06</td>\n",
       "      <td>0.0</td>\n",
       "      <td>724.0</td>\n",
       "      <td>669237</td>\n",
       "      <td>723316.0</td>\n",
       "      <td>4</td>\n",
       "      <td>1</td>\n",
       "      <td>1421860.0</td>\n",
       "      <td>16302.00</td>\n",
       "      <td>0</td>\n",
       "      <td>21</td>\n",
       "      <td>0.0</td>\n",
       "      <td>1</td>\n",
       "      <td>10.000000</td>\n",
       "      <td>20.1</td>\n",
       "      <td>2.0</td>\n",
       "    </tr>\n",
       "    <tr>\n",
       "      <td>66998</td>\n",
       "      <td>8.744180e+05</td>\n",
       "      <td>0.0</td>\n",
       "      <td>692.0</td>\n",
       "      <td>151563</td>\n",
       "      <td>314996.0</td>\n",
       "      <td>2</td>\n",
       "      <td>1</td>\n",
       "      <td>379852.0</td>\n",
       "      <td>15229.26</td>\n",
       "      <td>0</td>\n",
       "      <td>10</td>\n",
       "      <td>0.0</td>\n",
       "      <td>0</td>\n",
       "      <td>2.000000</td>\n",
       "      <td>7.4</td>\n",
       "      <td>2.0</td>\n",
       "    </tr>\n",
       "    <tr>\n",
       "      <td>66999</td>\n",
       "      <td>3.617980e+05</td>\n",
       "      <td>1.0</td>\n",
       "      <td>704.0</td>\n",
       "      <td>53314</td>\n",
       "      <td>64460.0</td>\n",
       "      <td>4</td>\n",
       "      <td>1</td>\n",
       "      <td>314996.0</td>\n",
       "      <td>8110.34</td>\n",
       "      <td>1</td>\n",
       "      <td>10</td>\n",
       "      <td>0.0</td>\n",
       "      <td>0</td>\n",
       "      <td>1.000000</td>\n",
       "      <td>35.0</td>\n",
       "      <td>1.0</td>\n",
       "    </tr>\n",
       "  </tbody>\n",
       "</table>\n",
       "<p>67000 rows x 16 columns</p>\n",
       "</div>"
      ],
      "text/plain": [
       "       Annual_Income  Bankruptcies  Credit_Score  Current_Credit_Balance  \\\n",
       "0       8.927910e+05           0.0         741.0                   86811   \n",
       "1       8.213320e+05           1.0         713.0                  198854   \n",
       "2       7.745160e+05           1.0         729.0                  158612   \n",
       "3       6.116480e+05           1.0         705.0                   10754   \n",
       "4       1.134300e+06           0.0         714.0                  193420   \n",
       "...              ...           ...           ...                     ...   \n",
       "66995   9.525334e+05           0.0         689.0                  294842   \n",
       "66996   9.525334e+05           0.0         575.0                  352146   \n",
       "66997   1.979990e+06           0.0         724.0                  669237   \n",
       "66998   8.744180e+05           0.0         692.0                  151563   \n",
       "66999   3.617980e+05           1.0         704.0                   53314   \n",
       "\n",
       "       Current_Loan_Amount  Home_Ownership  Loan_Status  Maximum_Open_Credit  \\\n",
       "0                 134838.0               2            1             141570.0   \n",
       "1                 341022.0               2            0             451440.0   \n",
       "2                  66638.0               2            1             355212.0   \n",
       "3                  85316.0               2            1             207460.0   \n",
       "4                 262680.0               4            1             420178.0   \n",
       "...                    ...             ...          ...                  ...   \n",
       "66995             397496.0               1            1             816728.0   \n",
       "66996             499950.0               1            0            1311090.0   \n",
       "66997             723316.0               4            1            1421860.0   \n",
       "66998             314996.0               2            1             379852.0   \n",
       "66999              64460.0               4            1             314996.0   \n",
       "\n",
       "       Monthly_Debt  Number_of_Credit_Problems  Number_of_Open_Accounts  \\\n",
       "0           3303.34                          0                       20   \n",
       "1          11361.62                          1                       13   \n",
       "2          17039.20                          1                       12   \n",
       "3          11621.16                          1                        6   \n",
       "4           6276.46                          0                       13   \n",
       "...             ...                        ...                      ...   \n",
       "66995       6590.91                          0                        5   \n",
       "66996       9396.83                          0                       10   \n",
       "66997      16302.00                          0                       21   \n",
       "66998      15229.26                          0                       10   \n",
       "66999       8110.34                          1                       10   \n",
       "\n",
       "       Tax_Liens  Term  Years_in_current_job  Years_of_Credit_History  \\\n",
       "0            0.0     0              2.000000                      9.6   \n",
       "1            0.0     0              9.000000                     12.0   \n",
       "2            0.0     0              6.441413                     31.7   \n",
       "3            0.0     0              2.000000                     12.9   \n",
       "4            0.0     0              6.441413                     19.4   \n",
       "...          ...   ...                   ...                      ...   \n",
       "66995        0.0     0             10.000000                     26.4   \n",
       "66996        0.0     0              2.000000                     21.2   \n",
       "66997        0.0     1             10.000000                     20.1   \n",
       "66998        0.0     0              2.000000                      7.4   \n",
       "66999        0.0     0              1.000000                     35.0   \n",
       "\n",
       "       monthly_debt_bin  \n",
       "0                   1.0  \n",
       "1                   2.0  \n",
       "2                   2.0  \n",
       "3                   2.0  \n",
       "4                   1.0  \n",
       "...                 ...  \n",
       "66995               1.0  \n",
       "66996               1.0  \n",
       "66997               2.0  \n",
       "66998               2.0  \n",
       "66999               1.0  \n",
       "\n",
       "[67000 rows x 16 columns]"
      ]
     },
     "execution_count": 62,
     "metadata": {},
     "output_type": "execute_result"
    }
   ],
   "source": [
    "filled_train"
   ]
  },
  {
   "cell_type": "code",
   "execution_count": 54,
   "metadata": {},
   "outputs": [
    {
     "data": {
      "text/html": [
       "<div>\n",
       "<style scoped>\n",
       "    .dataframe tbody tr th:only-of-type {\n",
       "        vertical-align: middle;\n",
       "    }\n",
       "\n",
       "    .dataframe tbody tr th {\n",
       "        vertical-align: top;\n",
       "    }\n",
       "\n",
       "    .dataframe thead th {\n",
       "        text-align: right;\n",
       "    }\n",
       "</style>\n",
       "<table border=\"1\" class=\"dataframe\">\n",
       "  <thead>\n",
       "    <tr style=\"text-align: right;\">\n",
       "      <th></th>\n",
       "      <th>Annual_Income</th>\n",
       "      <th>Bankruptcies</th>\n",
       "      <th>Credit_Score</th>\n",
       "      <th>Current_Credit_Balance</th>\n",
       "      <th>Current_Loan_Amount</th>\n",
       "      <th>Home_Ownership</th>\n",
       "      <th>Maximum_Open_Credit</th>\n",
       "      <th>Monthly_Debt</th>\n",
       "      <th>Number_of_Credit_Problems</th>\n",
       "      <th>Number_of_Open_Accounts</th>\n",
       "      <th>Tax_Liens</th>\n",
       "      <th>Term</th>\n",
       "      <th>Years_in_current_job</th>\n",
       "      <th>Years_of_Credit_History</th>\n",
       "      <th>monthly_debt_bin</th>\n",
       "    </tr>\n",
       "  </thead>\n",
       "  <tbody>\n",
       "    <tr>\n",
       "      <td>51784</td>\n",
       "      <td>6.919420e+05</td>\n",
       "      <td>0.0</td>\n",
       "      <td>730.0</td>\n",
       "      <td>213275</td>\n",
       "      <td>222552.0</td>\n",
       "      <td>2</td>\n",
       "      <td>739354.0</td>\n",
       "      <td>14242.40</td>\n",
       "      <td>0</td>\n",
       "      <td>13</td>\n",
       "      <td>0.0</td>\n",
       "      <td>0</td>\n",
       "      <td>7.000000</td>\n",
       "      <td>13.5</td>\n",
       "      <td>2.0</td>\n",
       "    </tr>\n",
       "    <tr>\n",
       "      <td>34121</td>\n",
       "      <td>1.998984e+06</td>\n",
       "      <td>0.0</td>\n",
       "      <td>639.0</td>\n",
       "      <td>786049</td>\n",
       "      <td>178904.0</td>\n",
       "      <td>1</td>\n",
       "      <td>1199154.0</td>\n",
       "      <td>31416.69</td>\n",
       "      <td>0</td>\n",
       "      <td>20</td>\n",
       "      <td>0.0</td>\n",
       "      <td>0</td>\n",
       "      <td>3.000000</td>\n",
       "      <td>31.7</td>\n",
       "      <td>4.0</td>\n",
       "    </tr>\n",
       "    <tr>\n",
       "      <td>1892</td>\n",
       "      <td>2.340952e+06</td>\n",
       "      <td>0.0</td>\n",
       "      <td>706.0</td>\n",
       "      <td>425391</td>\n",
       "      <td>777634.0</td>\n",
       "      <td>1</td>\n",
       "      <td>1207272.0</td>\n",
       "      <td>42605.22</td>\n",
       "      <td>0</td>\n",
       "      <td>11</td>\n",
       "      <td>0.0</td>\n",
       "      <td>1</td>\n",
       "      <td>6.000000</td>\n",
       "      <td>23.6</td>\n",
       "      <td>5.0</td>\n",
       "    </tr>\n",
       "    <tr>\n",
       "      <td>58126</td>\n",
       "      <td>1.110322e+06</td>\n",
       "      <td>0.0</td>\n",
       "      <td>750.0</td>\n",
       "      <td>79382</td>\n",
       "      <td>211420.0</td>\n",
       "      <td>2</td>\n",
       "      <td>198110.0</td>\n",
       "      <td>13879.12</td>\n",
       "      <td>0</td>\n",
       "      <td>7</td>\n",
       "      <td>0.0</td>\n",
       "      <td>0</td>\n",
       "      <td>7.000000</td>\n",
       "      <td>11.5</td>\n",
       "      <td>2.0</td>\n",
       "    </tr>\n",
       "    <tr>\n",
       "      <td>61803</td>\n",
       "      <td>7.400500e+05</td>\n",
       "      <td>0.0</td>\n",
       "      <td>740.0</td>\n",
       "      <td>317205</td>\n",
       "      <td>315700.0</td>\n",
       "      <td>2</td>\n",
       "      <td>477004.0</td>\n",
       "      <td>11532.43</td>\n",
       "      <td>0</td>\n",
       "      <td>8</td>\n",
       "      <td>0.0</td>\n",
       "      <td>0</td>\n",
       "      <td>3.000000</td>\n",
       "      <td>11.3</td>\n",
       "      <td>2.0</td>\n",
       "    </tr>\n",
       "    <tr>\n",
       "      <td>...</td>\n",
       "      <td>...</td>\n",
       "      <td>...</td>\n",
       "      <td>...</td>\n",
       "      <td>...</td>\n",
       "      <td>...</td>\n",
       "      <td>...</td>\n",
       "      <td>...</td>\n",
       "      <td>...</td>\n",
       "      <td>...</td>\n",
       "      <td>...</td>\n",
       "      <td>...</td>\n",
       "      <td>...</td>\n",
       "      <td>...</td>\n",
       "      <td>...</td>\n",
       "      <td>...</td>\n",
       "    </tr>\n",
       "    <tr>\n",
       "      <td>49100</td>\n",
       "      <td>8.546770e+05</td>\n",
       "      <td>0.0</td>\n",
       "      <td>705.0</td>\n",
       "      <td>477071</td>\n",
       "      <td>434038.0</td>\n",
       "      <td>2</td>\n",
       "      <td>1004344.0</td>\n",
       "      <td>17805.85</td>\n",
       "      <td>0</td>\n",
       "      <td>17</td>\n",
       "      <td>0.0</td>\n",
       "      <td>1</td>\n",
       "      <td>2.000000</td>\n",
       "      <td>25.7</td>\n",
       "      <td>2.0</td>\n",
       "    </tr>\n",
       "    <tr>\n",
       "      <td>20609</td>\n",
       "      <td>7.010240e+05</td>\n",
       "      <td>0.0</td>\n",
       "      <td>749.0</td>\n",
       "      <td>50502</td>\n",
       "      <td>114994.0</td>\n",
       "      <td>4</td>\n",
       "      <td>2165416.0</td>\n",
       "      <td>12034.41</td>\n",
       "      <td>0</td>\n",
       "      <td>19</td>\n",
       "      <td>0.0</td>\n",
       "      <td>0</td>\n",
       "      <td>8.000000</td>\n",
       "      <td>29.7</td>\n",
       "      <td>2.0</td>\n",
       "    </tr>\n",
       "    <tr>\n",
       "      <td>21440</td>\n",
       "      <td>1.853089e+06</td>\n",
       "      <td>0.0</td>\n",
       "      <td>661.0</td>\n",
       "      <td>148846</td>\n",
       "      <td>225148.0</td>\n",
       "      <td>2</td>\n",
       "      <td>249788.0</td>\n",
       "      <td>16677.82</td>\n",
       "      <td>0</td>\n",
       "      <td>11</td>\n",
       "      <td>0.0</td>\n",
       "      <td>1</td>\n",
       "      <td>6.000000</td>\n",
       "      <td>15.0</td>\n",
       "      <td>2.0</td>\n",
       "    </tr>\n",
       "    <tr>\n",
       "      <td>50057</td>\n",
       "      <td>1.628034e+06</td>\n",
       "      <td>0.0</td>\n",
       "      <td>632.0</td>\n",
       "      <td>483911</td>\n",
       "      <td>522676.0</td>\n",
       "      <td>2</td>\n",
       "      <td>635998.0</td>\n",
       "      <td>23199.38</td>\n",
       "      <td>0</td>\n",
       "      <td>10</td>\n",
       "      <td>0.0</td>\n",
       "      <td>1</td>\n",
       "      <td>6.441413</td>\n",
       "      <td>23.1</td>\n",
       "      <td>3.0</td>\n",
       "    </tr>\n",
       "    <tr>\n",
       "      <td>5192</td>\n",
       "      <td>7.732240e+05</td>\n",
       "      <td>0.0</td>\n",
       "      <td>711.0</td>\n",
       "      <td>40337</td>\n",
       "      <td>44770.0</td>\n",
       "      <td>2</td>\n",
       "      <td>71654.0</td>\n",
       "      <td>1430.51</td>\n",
       "      <td>0</td>\n",
       "      <td>3</td>\n",
       "      <td>0.0</td>\n",
       "      <td>0</td>\n",
       "      <td>3.000000</td>\n",
       "      <td>8.0</td>\n",
       "      <td>1.0</td>\n",
       "    </tr>\n",
       "  </tbody>\n",
       "</table>\n",
       "<p>66998 rows x 15 columns</p>\n",
       "</div>"
      ],
      "text/plain": [
       "       Annual_Income  Bankruptcies  Credit_Score  Current_Credit_Balance  \\\n",
       "51784   6.919420e+05           0.0         730.0                  213275   \n",
       "34121   1.998984e+06           0.0         639.0                  786049   \n",
       "1892    2.340952e+06           0.0         706.0                  425391   \n",
       "58126   1.110322e+06           0.0         750.0                   79382   \n",
       "61803   7.400500e+05           0.0         740.0                  317205   \n",
       "...              ...           ...           ...                     ...   \n",
       "49100   8.546770e+05           0.0         705.0                  477071   \n",
       "20609   7.010240e+05           0.0         749.0                   50502   \n",
       "21440   1.853089e+06           0.0         661.0                  148846   \n",
       "50057   1.628034e+06           0.0         632.0                  483911   \n",
       "5192    7.732240e+05           0.0         711.0                   40337   \n",
       "\n",
       "       Current_Loan_Amount  Home_Ownership  Maximum_Open_Credit  Monthly_Debt  \\\n",
       "51784             222552.0               2             739354.0      14242.40   \n",
       "34121             178904.0               1            1199154.0      31416.69   \n",
       "1892              777634.0               1            1207272.0      42605.22   \n",
       "58126             211420.0               2             198110.0      13879.12   \n",
       "61803             315700.0               2             477004.0      11532.43   \n",
       "...                    ...             ...                  ...           ...   \n",
       "49100             434038.0               2            1004344.0      17805.85   \n",
       "20609             114994.0               4            2165416.0      12034.41   \n",
       "21440             225148.0               2             249788.0      16677.82   \n",
       "50057             522676.0               2             635998.0      23199.38   \n",
       "5192               44770.0               2              71654.0       1430.51   \n",
       "\n",
       "       Number_of_Credit_Problems  Number_of_Open_Accounts  Tax_Liens  Term  \\\n",
       "51784                          0                       13        0.0     0   \n",
       "34121                          0                       20        0.0     0   \n",
       "1892                           0                       11        0.0     1   \n",
       "58126                          0                        7        0.0     0   \n",
       "61803                          0                        8        0.0     0   \n",
       "...                          ...                      ...        ...   ...   \n",
       "49100                          0                       17        0.0     1   \n",
       "20609                          0                       19        0.0     0   \n",
       "21440                          0                       11        0.0     1   \n",
       "50057                          0                       10        0.0     1   \n",
       "5192                           0                        3        0.0     0   \n",
       "\n",
       "       Years_in_current_job  Years_of_Credit_History  monthly_debt_bin  \n",
       "51784              7.000000                     13.5               2.0  \n",
       "34121              3.000000                     31.7               4.0  \n",
       "1892               6.000000                     23.6               5.0  \n",
       "58126              7.000000                     11.5               2.0  \n",
       "61803              3.000000                     11.3               2.0  \n",
       "...                     ...                      ...               ...  \n",
       "49100              2.000000                     25.7               2.0  \n",
       "20609              8.000000                     29.7               2.0  \n",
       "21440              6.000000                     15.0               2.0  \n",
       "50057              6.441413                     23.1               3.0  \n",
       "5192               3.000000                      8.0               1.0  \n",
       "\n",
       "[66998 rows x 15 columns]"
      ]
     },
     "execution_count": 54,
     "metadata": {},
     "output_type": "execute_result"
    }
   ],
   "source": [
    "X_train"
   ]
  },
  {
   "cell_type": "code",
   "execution_count": 63,
   "metadata": {},
   "outputs": [],
   "source": [
    "test_ids = pd.read_csv(\"loans_test.csv\")[\"Id\"].to_list()\n",
    "with open('logistic_regression_all.pkl', 'rb') as fid:\n",
    "    model = pickle.load(fid)"
   ]
  },
  {
   "cell_type": "code",
   "execution_count": 64,
   "metadata": {},
   "outputs": [
    {
     "name": "stdout",
     "output_type": "stream",
     "text": [
      "33000\n"
     ]
    },
    {
     "data": {
      "text/html": [
       "<div>\n",
       "<style scoped>\n",
       "    .dataframe tbody tr th:only-of-type {\n",
       "        vertical-align: middle;\n",
       "    }\n",
       "\n",
       "    .dataframe tbody tr th {\n",
       "        vertical-align: top;\n",
       "    }\n",
       "\n",
       "    .dataframe thead th {\n",
       "        text-align: right;\n",
       "    }\n",
       "</style>\n",
       "<table border=\"1\" class=\"dataframe\">\n",
       "  <thead>\n",
       "    <tr style=\"text-align: right;\">\n",
       "      <th></th>\n",
       "      <th>Id</th>\n",
       "      <th>Loan_Status</th>\n",
       "    </tr>\n",
       "  </thead>\n",
       "  <tbody>\n",
       "    <tr>\n",
       "      <td>0</td>\n",
       "      <td>96463</td>\n",
       "      <td>Fully Paid</td>\n",
       "    </tr>\n",
       "    <tr>\n",
       "      <td>1</td>\n",
       "      <td>80131</td>\n",
       "      <td>Fully Paid</td>\n",
       "    </tr>\n",
       "    <tr>\n",
       "      <td>2</td>\n",
       "      <td>59734</td>\n",
       "      <td>Fully Paid</td>\n",
       "    </tr>\n",
       "    <tr>\n",
       "      <td>3</td>\n",
       "      <td>36176</td>\n",
       "      <td>Fully Paid</td>\n",
       "    </tr>\n",
       "    <tr>\n",
       "      <td>4</td>\n",
       "      <td>14703</td>\n",
       "      <td>Fully Paid</td>\n",
       "    </tr>\n",
       "    <tr>\n",
       "      <td>...</td>\n",
       "      <td>...</td>\n",
       "      <td>...</td>\n",
       "    </tr>\n",
       "    <tr>\n",
       "      <td>32995</td>\n",
       "      <td>12611</td>\n",
       "      <td>Fully Paid</td>\n",
       "    </tr>\n",
       "    <tr>\n",
       "      <td>32996</td>\n",
       "      <td>61369</td>\n",
       "      <td>Fully Paid</td>\n",
       "    </tr>\n",
       "    <tr>\n",
       "      <td>32997</td>\n",
       "      <td>79704</td>\n",
       "      <td>Fully Paid</td>\n",
       "    </tr>\n",
       "    <tr>\n",
       "      <td>32998</td>\n",
       "      <td>91849</td>\n",
       "      <td>Fully Paid</td>\n",
       "    </tr>\n",
       "    <tr>\n",
       "      <td>32999</td>\n",
       "      <td>84957</td>\n",
       "      <td>Fully Paid</td>\n",
       "    </tr>\n",
       "  </tbody>\n",
       "</table>\n",
       "<p>33000 rows x 2 columns</p>\n",
       "</div>"
      ],
      "text/plain": [
       "          Id Loan_Status\n",
       "0      96463  Fully Paid\n",
       "1      80131  Fully Paid\n",
       "2      59734  Fully Paid\n",
       "3      36176  Fully Paid\n",
       "4      14703  Fully Paid\n",
       "...      ...         ...\n",
       "32995  12611  Fully Paid\n",
       "32996  61369  Fully Paid\n",
       "32997  79704  Fully Paid\n",
       "32998  91849  Fully Paid\n",
       "32999  84957  Fully Paid\n",
       "\n",
       "[33000 rows x 2 columns]"
      ]
     },
     "execution_count": 64,
     "metadata": {},
     "output_type": "execute_result"
    }
   ],
   "source": [
    "predictions = model.predict(filled_test[features_cols].to_numpy())\n",
    "print(sum(predictions))\n",
    "predictions = [\"Fully Paid\" if i == 1 else \"Charged Off\" for i in predictions ]\n",
    "result = pd.DataFrame({\"Id\": test_ids, \"Loan_Status\": predictions})\n",
    "result.to_csv(\"result_lr.csv\", index=False)\n",
    "result"
   ]
  },
  {
   "cell_type": "code",
   "execution_count": 65,
   "metadata": {},
   "outputs": [
    {
     "data": {
      "text/plain": [
       "Fully Paid    33000\n",
       "dtype: int64"
      ]
     },
     "execution_count": 65,
     "metadata": {},
     "output_type": "execute_result"
    }
   ],
   "source": [
    "result[\"Loan_Status\"].value_counts()"
   ]
  },
  {
   "cell_type": "code",
   "execution_count": 66,
   "metadata": {},
   "outputs": [
    {
     "data": {
      "text/plain": [
       "51832"
      ]
     },
     "execution_count": 66,
     "metadata": {},
     "output_type": "execute_result"
    }
   ],
   "source": [
    "sum(y_train)"
   ]
  },
  {
   "cell_type": "code",
   "execution_count": null,
   "metadata": {},
   "outputs": [],
   "source": []
  }
 ],
 "metadata": {
  "kernelspec": {
   "display_name": "Python 3",
   "language": "python",
   "name": "python3"
  },
  "language_info": {
   "codemirror_mode": {
    "name": "ipython",
    "version": 3
   },
   "file_extension": ".py",
   "mimetype": "text/x-python",
   "name": "python",
   "nbconvert_exporter": "python",
   "pygments_lexer": "ipython3",
   "version": "3.7.5"
  }
 },
 "nbformat": 4,
 "nbformat_minor": 2
}
